{
 "cells": [
  {
   "cell_type": "code",
   "execution_count": null,
   "id": "127adedc",
   "metadata": {},
   "outputs": [],
   "source": [
    "%matplotlib inline\n",
    "\n",
    "from os.path import join as pjoin\n",
    "import pandas as pd\n",
    "import numpy as np\n",
    "import geopandas as gpd\n",
    "import seaborn as sns\n",
    "import matplotlib\n",
    "import matplotlib.pyplot as plt\n",
    "import matplotlib.lines as mlines\n",
    "from datetime import datetime\n",
    "import seaborn as sns\n",
    "\n",
    "from matplotlib import patheffects\n",
    "pe = patheffects.withStroke(foreground=\"white\", linewidth=3)\n",
    "matplotlib.rcParams['font.sans-serif'] = 'Arial'\n",
    "sns.set_context('talk')"
   ]
  },
  {
   "cell_type": "markdown",
   "id": "9a14076a",
   "metadata": {},
   "source": [
    "Load the classified storm data. This is *only* the visually classified events. The full event set are plotted elsewhere."
   ]
  },
  {
   "cell_type": "code",
   "execution_count": null,
   "id": "c8e03bd0",
   "metadata": {},
   "outputs": [],
   "source": [
    "BASEDIR = r\"..\\data\"\n",
    "DATADIR = r\"..\\data\\training\"\n",
    "eventFile = pjoin(DATADIR, \"visual_storm_types.csv\")\n",
    "\n",
    "stormdf = pd.read_csv(eventFile, usecols=[1, 2, 3],\n",
    "                      parse_dates=['date'],\n",
    "                      dtype={\n",
    "                          'stnNum': int,\n",
    "                          'stormType': 'category'\n",
    "                          })"
   ]
  },
  {
   "cell_type": "markdown",
   "id": "64ff68d6",
   "metadata": {},
   "source": [
    "Plot a bar chart of the visually classified storm counts. The columns are re-ordered to match the grouping of non-convective, convective and error storm types."
   ]
  },
  {
   "cell_type": "code",
   "execution_count": null,
   "id": "c63ed960",
   "metadata": {},
   "outputs": [],
   "source": [
    "order = [\"Synoptic storm\", \"Synoptic front\",\n",
    "         \"Storm-burst\", \"Thunderstorm\",\n",
    "         \"Front up\", \"Front down\",\n",
    "         \"Spike\", \"Unclassified\"]\n",
    "colors = sns.color_palette(\"viridis\", n_colors=8)\n",
    "stormdf.stormType.value_counts().loc[order].plot(kind='bar', color=colors)\n",
    "plt.savefig(pjoin(DATADIR, \"plots\", \"visual_storm_counts.jpg\"),\n",
    "            bbox_inches=\"tight\", dpi=600)"
   ]
  },
  {
   "cell_type": "code",
   "execution_count": null,
   "id": "569ac560",
   "metadata": {},
   "outputs": [],
   "source": [
    "stormdf.stormType.value_counts().loc[order]"
   ]
  },
  {
   "cell_type": "markdown",
   "id": "da543ed0",
   "metadata": {},
   "source": [
    "Load all the observed data, for all HQ stations and concatenate into a single dataframe. We then create a new attribute (called `idx`) that is a tuple of the MultiIndex of the dataframe (based on station and date)"
   ]
  },
  {
   "cell_type": "code",
   "execution_count": null,
   "id": "8af7a440",
   "metadata": {},
   "outputs": [],
   "source": [
    "stndf = pd.read_csv(pjoin(\"../data\", 'hqstations.csv'), index_col=\"stnNum\")\n",
    "\n",
    "def loadData(stnNum):\n",
    "    fname = pjoin(DATADIR, \"events\", f\"{stnNum:06d}.pkl\")\n",
    "    df = pd.read_pickle(fname)\n",
    "    df['date'] = pd.to_datetime(df['date'])\n",
    "    df['stnNum'] = stnNum\n",
    "    df.reset_index(inplace=True)\n",
    "    # Create a MultiIndex based on station number and storm date:\n",
    "    df.set_index(['stnNum', 'date'], inplace=True)\n",
    "    return df\n",
    "\n",
    "dflist = []\n",
    "for stn in stndf.index:\n",
    "    df = loadData(stn)\n",
    "    dflist.append(df)\n",
    "\n",
    "alldf = pd.concat(dflist)\n",
    "alldf['idx'] = alldf.index"
   ]
  },
  {
   "cell_type": "markdown",
   "id": "e302cc79",
   "metadata": {},
   "source": [
    "We create a similar attribute in the list of storm types, then create lists of indicies for each storm type."
   ]
  },
  {
   "cell_type": "code",
   "execution_count": null,
   "id": "64121df6",
   "metadata": {},
   "outputs": [],
   "source": [
    "stormdf['idx'] = stormdf[['stnNum', 'date']].apply(tuple, axis=1)\n",
    "\n",
    "synidx = stormdf[stormdf['stormType']==\"Synoptic storm\"]['idx']\n",
    "syfidx = stormdf[stormdf['stormType']==\"Synoptic front\"]['idx']\n",
    "sbidx = stormdf[stormdf['stormType']==\"Storm-burst\"]['idx']\n",
    "\n",
    "tsidx = stormdf[stormdf['stormType']==\"Thunderstorm\"]['idx']\n",
    "fuidx = stormdf[stormdf['stormType']==\"Front up\"]['idx']\n",
    "fdidx = stormdf[stormdf['stormType']==\"Front down\"]['idx']\n",
    "\n",
    "ucidx = stormdf[stormdf['stormType']==\"Unclassified\"]['idx']\n",
    "spidx = stormdf[stormdf['stormType']==\"Spike\"]['idx']"
   ]
  },
  {
   "cell_type": "markdown",
   "id": "688515b1",
   "metadata": {},
   "source": [
    "Then we can select the time series of each event that is classified as the selected storm type. We then group by the time difference (i.e. the time before/after the peak gust) and take the mean of all the values. This creates eight separate dataframes - one for each storm type - which hold the mean time series for each storm type. "
   ]
  },
  {
   "cell_type": "code",
   "execution_count": null,
   "id": "a0d7f6a9",
   "metadata": {},
   "outputs": [],
   "source": [
    "synevents = alldf[alldf.idx.isin(synidx.values)]\n",
    "syfevents = alldf[alldf.idx.isin(syfidx.values)]\n",
    "sbevents = alldf[alldf.idx.isin(sbidx.values)]\n",
    "\n",
    "\n",
    "tsevents = alldf[alldf.idx.isin(tsidx.values)]\n",
    "fuevents = alldf[alldf.idx.isin(fuidx.values)]\n",
    "fdevents = alldf[alldf.idx.isin(fdidx.values)]\n",
    "\n",
    "ucevents = alldf[alldf.idx.isin(ucidx.values)]\n",
    "spevents = alldf[alldf.idx.isin(spidx.values)]\n"
   ]
  },
  {
   "cell_type": "code",
   "execution_count": null,
   "id": "d464b567",
   "metadata": {},
   "outputs": [],
   "source": [
    "\n",
    "meansyn = synevents.reset_index().groupby('tdiff').mean(numeric_only=True).reset_index()\n",
    "meansyf = syfevents.reset_index().groupby('tdiff').mean(numeric_only=True).reset_index()\n",
    "meansb = sbevents.reset_index().groupby('tdiff').mean(numeric_only=True).reset_index()\n",
    "\n",
    "meants = tsevents.reset_index().groupby('tdiff').mean(numeric_only=True).reset_index()\n",
    "meanfu = fuevents.reset_index().groupby('tdiff').mean(numeric_only=True).reset_index()\n",
    "meanfd = fdevents.reset_index().groupby('tdiff').mean(numeric_only=True).reset_index()\n",
    "\n",
    "meanuc = ucevents.reset_index().groupby('tdiff').mean(numeric_only=True).reset_index()\n",
    "meansp = spevents.reset_index().groupby('tdiff').mean(numeric_only=True).reset_index()"
   ]
  },
  {
   "cell_type": "markdown",
   "id": "2b85a2f1",
   "metadata": {},
   "source": [
    "The following code plots a multipanel figure with the mean time series of the eight storm types. There's some stuffing around to get multiple y-axes on each panel, and the labelling is done across multiple axes."
   ]
  },
  {
   "cell_type": "code",
   "execution_count": null,
   "id": "63016b55",
   "metadata": {},
   "outputs": [],
   "source": [
    "def plotEvent(df, ax, wlims=(0, 100), tlims=(-4, 4), plims=(-2, 2), pos='l'):\n",
    "    \"\"\"\n",
    "    Plot a time series onto an axis\n",
    "\n",
    "    :param df: DataFrame containing time series of temperature, wind speed, dew point and station pressure values\n",
    "    :param ax: `matplotlib.Axes`\n",
    "    \"\"\"\n",
    "    axt = ax.twinx()\n",
    "    axp = ax.twinx()\n",
    "    ax.set_zorder(1)\n",
    "    ax.patch.set_visible(False)\n",
    "    l1 = axt.plot(df.tdiff, df.tempanom, label=r\"Temperature [$^o$C]\",\n",
    "             color='r', marker='^', markerfacecolor=\"None\", lw=1, path_effects=[pe], zorder=1,\n",
    "             markevery=5)\n",
    "    l2 = axt.plot(df.tdiff, df.dpanom, label=r\"Dew point [$^o$C]\", color='orangered', marker='.', markerfacecolor=\"None\",\n",
    "             lw=1, path_effects=[pe], zorder=1, markevery=5)\n",
    "\n",
    "    l3 = ax.plot(df.tdiff, df.windgust, label=\"Wind gust [km/h]\", color=\"#4C72B0\",\n",
    "            lw=2, path_effects=[pe], markerfacecolor=\"None\",zorder=100)\n",
    "    l4 = axp.plot(df.tdiff, df.stnpanom, label=\"Pressure [hPa]\", color='purple', lw=2, path_effects=[pe],\n",
    "             ls='--',)\n",
    "\n",
    "    if pos != 'l':\n",
    "        #axt.spines['right'].set_position((\"axes\", 1.075))\n",
    "        axt.spines[['right']].set_color('r')\n",
    "        axt.yaxis.label.set_color('r')\n",
    "        axt.tick_params(axis='y', colors='r')\n",
    "        axt.set_ylabel(r\"Temperature anomaly [$^o$C]\")\n",
    "        axp.spines[['right']].set_position(('axes', 1.15))\n",
    "        axp.spines[['right']].set_color('purple')\n",
    "        axp.yaxis.label.set_color('purple')\n",
    "        axp.tick_params(axis='y', colors='purple')\n",
    "        axp.set_ylabel(\"Pressure anomaly [hPa]\")\n",
    "\n",
    "    if pos == 'l':\n",
    "        ax.set_ylabel(\"Gust wind speed [km/h]\")\n",
    "        axp.tick_params(labelright=False, right=False)\n",
    "        axt.tick_params(labelright=False, right=False)\n",
    "\n",
    "    gmin, gmax = ax.get_ylim()\n",
    "    pmin, pmax = axp.get_ylim()\n",
    "    tmin, tmax = axt.get_ylim()\n",
    "    ax.set_ylim(wlims)\n",
    "    ax.set_xlim((-60, 60))\n",
    "    axp.set_ylim(plims)\n",
    "    axt.set_ylim(tlims)\n",
    "    #axt.set_ylim((min(-2.0, tmin), max(tmax, 2.0)))\n",
    "    #ax2.set_ylim((0, 360))\n",
    "    #ax2.set_yticks(np.arange(0, 361, 90))\n",
    "    #axr.set_ylim((0, 100))\n",
    "    #ax.set_title(meants.index[0])\n",
    "    ax.grid(True)\n",
    "    #ax2.grid(False)\n",
    "    axt.grid(False)\n",
    "    axp.grid(False)\n",
    "    #axr.grid(False)\n",
    "\n",
    "def identify_axes(axdict, labels):\n",
    "    kw = dict(ha=\"left\", va=\"top\", fontsize=12, color='black',\n",
    "              bbox=dict(boxstyle='square',\n",
    "                        ec=\"white\",\n",
    "                        fc=\"white\",\n",
    "                        alpha=0.7))\n",
    "    for (k, ax), label in zip(axdict.items(), labels):\n",
    "        ax.text(.02, 0.95, f\"{k} {label}\", transform=ax.transAxes, **kw)"
   ]
  },
  {
   "cell_type": "code",
   "execution_count": null,
   "id": "4c9073bb",
   "metadata": {},
   "outputs": [],
   "source": [
    "fig, axes = plt.subplot_mosaic(\n",
    "    [[\"(a)\", \"(b)\"],\n",
    "     [\"(c)\", \"(d)\"],\n",
    "     [\"(e)\", \"(f)\"],\n",
    "     [\"(g)\", \"(h)\"]],\n",
    "    sharex=True, sharey=True,\n",
    "    figsize=(20, 16)\n",
    ")\n",
    "\n",
    "plotEvent(meansyn, axes['(a)'], wlims=(0, 120), tlims=(-6, 6), plims=(-4, 4), pos='l')\n",
    "plotEvent(meansyf, axes['(b)'], wlims=(0, 120), tlims=(-6, 6), plims=(-4, 4), pos='r')\n",
    "plotEvent(meansb, axes['(c)'], wlims=(0, 120), tlims=(-6, 6), plims=(-4, 4), pos='l')\n",
    "plotEvent(meants, axes['(d)'], wlims=(0, 120), tlims=(-6, 6), plims=(-4, 4), pos='r')\n",
    "plotEvent(meanfu, axes['(e)'], wlims=(0, 120), tlims=(-6, 6), plims=(-4, 4), pos='l')\n",
    "plotEvent(meanfd, axes['(f)'], wlims=(0, 120), tlims=(-6, 6), plims=(-4, 4), pos='r')\n",
    "plotEvent(meansp, axes['(g)'], wlims=(0, 120), tlims=(-6, 6), plims=(-4, 4), pos='l')\n",
    "plotEvent(meanuc, axes['(h)'], wlims=(0, 120), tlims=(-6, 6), plims=(-4, 4), pos='r')\n",
    "identify_axes(axes, labels=\n",
    "              [\"Synoptic storm\", \"Synoptic front\",\n",
    "               \"Storm-burst\", \"Thunderstorm\",\n",
    "               \"Front-up\", \"Front-down\",\n",
    "               \"Spike\", \"Unclassified\"])\n",
    "tlegendline = mlines.Line2D([], [], color='red', marker='^',\n",
    "                            markerfacecolor=\"None\",\n",
    "                            label=r\"Temperature [$^o$C]\")\n",
    "dlegendline = mlines.Line2D([], [], color='orangered',\n",
    "                            marker='.', markerfacecolor=\"None\",\n",
    "                            label=r\"Dew point [$^o$C]\")\n",
    "plegendline = mlines.Line2D([], [], color='purple',\n",
    "                            ls='--', label=r\"Pressure [hPa]\")\n",
    "wlegendline = mlines.Line2D([], [], color='#4C72B0',\n",
    "                            label=r\"Wind speed [km/h]\")\n",
    "axes['(a)'].legend(handles=[wlegendline, plegendline,\n",
    "                            tlegendline, dlegendline], loc=3,\n",
    "                   fontsize='small')\n",
    "axes['(g)'].set_xlabel(\"Time since gust [min]\")\n",
    "axes['(h)'].set_xlabel(\"Time since gust [min]\")\n",
    "plt.tight_layout()\n",
    "\n",
    "fig.savefig(pjoin(DATADIR, \"plots\", \"mean_visual_storm_profile.jpg\"),\n",
    "            bbox_inches=\"tight\", dpi=600)"
   ]
  },
  {
   "cell_type": "markdown",
   "id": "2a70c9fc",
   "metadata": {},
   "source": [
    "Now load the events classified using the El Rafei _et al._ (2023) criteria, which provides a binary classification based on the ratio of the maximum gust wind speed to the gust wind speeds preceding and following the maximum gust. "
   ]
  },
  {
   "cell_type": "code",
   "execution_count": null,
   "id": "2a70c9fc",
   "metadata": {},
   "outputs": [],
   "source": [
    "def loadGustRatioData(stnNum):\n",
    "    fname = pjoin(DATADIR, \"gustratio\", f\"{stnNum:06d}.pkl\")\n",
    "    df = pd.read_pickle(fname)\n",
    "    df['date'] = pd.to_datetime(df['date'])\n",
    "    df['stnNum'] = stnNum\n",
    "    df.reset_index(inplace=True)\n",
    "    df.set_index(['stnNum', 'date'], inplace=True)\n",
    "    return df"
   ]
  },
  {
   "cell_type": "code",
   "execution_count": null,
   "id": "b6f7c059",
   "metadata": {},
   "outputs": [],
   "source": [
    "grdflist = []\n",
    "for stn in stndf.index:\n",
    "    df = loadGustRatioData(stn)\n",
    "    grdflist.append(df)\n",
    "\n",
    "allgrdf = pd.concat(grdflist)\n",
    "allgrdf['idx'] = allgrdf.index"
   ]
  },
  {
   "cell_type": "markdown",
   "id": "41149f5d",
   "metadata": {},
   "source": [
    "Here we join the manually classified set of events with the automatically classified events (based on the gust ratio). We reset the index of the dataframe holding the manually classified data to match the index of the automatically classified events and provide a suffix to separate the overlapping column names. A cross-tabulation then gives the comparison of events with different classifications. "
   ]
  },
  {
   "cell_type": "code",
   "execution_count": null,
   "id": "5bd3f87a",
   "metadata": {},
   "outputs": [],
   "source": [
    "compdf = pd.merge(stormdf.set_index(['stnNum', 'date']), allgrdf, suffixes=('_s', '_g'))"
   ]
  },
  {
   "cell_type": "code",
   "execution_count": null,
   "id": "0d949177",
   "metadata": {},
   "outputs": [],
   "source": [
    "colorder = ['Synoptic storm', 'Synoptic front', 'Storm-burst',\n",
    "            'Thunderstorm', 'Front up', 'Front down',\n",
    "            'Spike', 'Unclassified']\n",
    "pd.crosstab(compdf['stormType'], compdf['category']).reindex(colorder).style.background_gradient(cmap='viridis_r')"
   ]
  },
  {
   "cell_type": "code",
   "execution_count": null,
   "id": "154a48c9",
   "metadata": {},
   "outputs": [],
   "source": [
    "\n",
    "syndf = alldf[alldf.idx==(4032, datetime(2017, 3, 23))].rename({\"datetime\":\"tdiff\"})\n",
    "syfdf = alldf[alldf.idx==(66037, datetime(2001, 1, 15))].rename({\"datetime\":\"tdiff\"})\n",
    "stbdf = alldf[alldf.idx==(3003, datetime(2012, 3, 17))].rename({\"datetime\":\"tdiff\"})\n",
    "frudf = alldf[alldf.idx==(12038, datetime(2018, 12, 10))].rename({\"datetime\":\"tdiff\"})\n",
    "frddf = alldf[alldf.idx==(3003, datetime(2017, 2, 23))].rename({\"datetime\":\"tdiff\"})\n",
    "tstdf = alldf[alldf.idx==(36031, datetime(2020, 11, 12))].rename({\"datetime\":\"tdiff\"})\n",
    "spkdf = alldf[alldf.idx==(15590, datetime(2010, 12, 26))].rename({\"datetime\":\"tdiff\"})\n",
    "#uncdf = alldf[alldf.idx==(15590, datetime(2010, 12, 26))].rename({\"datetime\":\"tdiff\"})\n",
    "#plotEvent(pltdf, ax)\n",
    "#ax.legend()\n",
    "#ax.set_xlabel(\"Time since gust [min]\")"
   ]
  },
  {
   "cell_type": "markdown",
   "id": "3fcccf44",
   "metadata": {},
   "source": [
    "This plots selected events from the visually classified event set. Used for demonstrating the range of storm types"
   ]
  },
  {
   "cell_type": "code",
   "execution_count": null,
   "id": "df4f7003",
   "metadata": {},
   "outputs": [],
   "source": [
    "fig, axes = plt.subplot_mosaic(\n",
    "    [[\"(a)\", \"(b)\"],\n",
    "     [\"(c)\", \"(d)\"],\n",
    "     [\"(e)\", \"(f)\"]],\n",
    "    sharex=True, sharey=True,\n",
    "    figsize=(20, 12)\n",
    ")\n",
    "\n",
    "plotEvent(syndf, axes['(a)'], wlims=(0, 120), tlims=(-6, 6), plims=(-4, 4), pos='l')\n",
    "plotEvent(syfdf, axes['(b)'], wlims=(0, 120), tlims=(-6, 6), plims=(-4, 4), pos='r')\n",
    "plotEvent(stbdf, axes['(c)'], wlims=(0, 120), tlims=(-6, 6), plims=(-4, 4), pos='l')\n",
    "plotEvent(tstdf, axes['(d)'], wlims=(0, 120), tlims=(-6, 6), plims=(-4, 4), pos='r')\n",
    "plotEvent(frudf, axes['(e)'], wlims=(0, 120), tlims=(-6, 6), plims=(-4, 4), pos='l')\n",
    "plotEvent(frddf, axes['(f)'], wlims=(0, 120), tlims=(-6, 6), plims=(-4, 4), pos='r')\n",
    "\n",
    "identify_axes(axes, labels=\n",
    "              [\"Synoptic storm\", \"Synoptic front\",\n",
    "               \"Storm-burst\", \"Thunderstorm\",\n",
    "               \"Front-up\", \"Front-down\",\n",
    "               \"Spike\", \"Unclassified\"])\n",
    "tlegendline = mlines.Line2D([], [], color='red', marker='^',\n",
    "                            markerfacecolor=\"None\",\n",
    "                            label=r\"Temperature [$^o$C]\")\n",
    "dlegendline = mlines.Line2D([], [], color='orangered',\n",
    "                            marker='.', markerfacecolor=\"None\",\n",
    "                            label=r\"Dew point [$^o$C]\")\n",
    "plegendline = mlines.Line2D([], [], color='purple',\n",
    "                            ls='--', label=r\"Pressure [hPa]\")\n",
    "wlegendline = mlines.Line2D([], [], color='#4C72B0',\n",
    "                            label=r\"Wind speed [km/h]\")\n",
    "axes['(a)'].legend(handles=[wlegendline, plegendline,\n",
    "                            tlegendline, dlegendline], loc=3,\n",
    "                   fontsize='small')\n",
    "axes['(c)'].spines['right'].set_visible(False)\n",
    "axes['(e)'].spines['right'].set_visible(False)\n",
    "\n",
    "axes['(e)'].set_xlabel(\"Time since gust [min]\")\n",
    "axes['(f)'].set_xlabel(\"Time since gust [min]\")\n",
    "plt.tight_layout()\n",
    "\n",
    "fig.savefig(pjoin(DATADIR, \"plots\", \"example_visual_storm_profile.jpg\"),\n",
    "            bbox_inches=\"tight\", dpi=600)"
   ]
  },
  {
   "cell_type": "code",
   "execution_count": null,
   "id": "5e7eb77a",
   "metadata": {},
   "outputs": [],
   "source": [
    "OUTPUTPATH = pjoin(BASEDIR, \"allevents\", \"results\")\n",
    "stormClassFile = pjoin(OUTPUTPATH, \"stormclass.pkl\")\n",
    "outputstormdf = pd.read_pickle(stormClassFile)\n",
    "fullStationFile = pjoin(BASEDIR, \"StationDetails.geojson\")\n",
    "allstndf = gpd.read_file(fullStationFile)\n",
    "allstndf.set_index(\"stnNum\", inplace=True)\n",
    "allstndf['stnWMOIndex'] = allstndf['stnWMOIndex'].astype('Int64')"
   ]
  },
  {
   "cell_type": "code",
   "execution_count": null,
   "id": "061f5265",
   "metadata": {},
   "outputs": [],
   "source": [
    "def loadAllData(stnNum, datapath):\n",
    "    fname = pjoin(datapath, \"events\", f\"{stnNum:06d}.pkl\")\n",
    "    df = pd.read_pickle(fname)\n",
    "    df['date'] = pd.to_datetime(df['date'])\n",
    "    df['stnNum'] = stnNum\n",
    "    df.reset_index(inplace=True)\n",
    "    # Create a MultiIndex based on station number and storm date:\n",
    "    df.set_index(['stnNum', 'date'], inplace=True)\n",
    "    return df"
   ]
  },
  {
   "cell_type": "code",
   "execution_count": null,
   "id": "9be7a550",
   "metadata": {},
   "outputs": [],
   "source": [
    "alldatadflist = []\n",
    "n = 0\n",
    "for stn in allstndf.index:\n",
    "    try:\n",
    "        df = loadAllData(stn, pjoin(BASEDIR, \"training\"))\n",
    "    except FileNotFoundError:\n",
    "        #print(f\"No data for station: {stn}\")\n",
    "        n+=1\n",
    "        pass\n",
    "    else:\n",
    "        alldatadflist.append(df)\n",
    "print(n)\n",
    "alldatadf = pd.concat(alldatadflist)\n",
    "alldatadf[\"idx\"] = alldatadf.index"
   ]
  },
  {
   "cell_type": "code",
   "execution_count": null,
   "id": "80a9ed9b",
   "metadata": {},
   "outputs": [],
   "source": [
    "outputstormdf['idx'] = outputstormdf[['stnNum', 'date']].apply(tuple, axis=1)\n",
    "\n",
    "allsynidx = outputstormdf[outputstormdf['stormType']==\"Synoptic storm\"]['idx']\n",
    "allsyfidx = outputstormdf[outputstormdf['stormType']==\"Synoptic front\"]['idx']\n",
    "allsbidx = outputstormdf[outputstormdf['stormType']==\"Storm-burst\"]['idx']\n",
    "\n",
    "alltsidx = outputstormdf[outputstormdf['stormType']==\"Thunderstorm\"]['idx']\n",
    "allfuidx = outputstormdf[outputstormdf['stormType']==\"Front up\"]['idx']\n",
    "allfdidx = outputstormdf[outputstormdf['stormType']==\"Front down\"]['idx']\n",
    "\n",
    "allucidx = outputstormdf[outputstormdf['stormType']==\"Unclassified\"]['idx']\n",
    "allspidx = outputstormdf[outputstormdf['stormType']==\"Spike\"]['idx']\n",
    "\n"
   ]
  },
  {
   "cell_type": "code",
   "execution_count": null,
   "id": "7dd75321",
   "metadata": {},
   "outputs": [],
   "source": [
    "allsynevents = alldatadf[alldatadf.idx.isin(allsynidx.values)]\n",
    "allsyfevents = alldatadf[alldatadf.idx.isin(allsyfidx.values)]\n",
    "allsbevents = alldatadf[alldatadf.idx.isin(allsbidx.values)]\n",
    "\n",
    "alltsevents = alldatadf[alldatadf.idx.isin(alltsidx.values)]\n",
    "allfuevents = alldatadf[alldatadf.idx.isin(allfuidx.values)]\n",
    "allfdevents = alldatadf[alldatadf.idx.isin(allfdidx.values)]\n",
    "\n",
    "allucevents = alldatadf[alldatadf.idx.isin(allucidx.values)]\n",
    "allspevents = alldatadf[alldatadf.idx.isin(allspidx.values)]"
   ]
  },
  {
   "cell_type": "code",
   "execution_count": null,
   "id": "c5c5322a",
   "metadata": {},
   "outputs": [],
   "source": [
    "allmeansyn = allsynevents.reset_index().groupby('tdiff').mean(numeric_only=True).reset_index()\n",
    "allmeansyf = allsyfevents.reset_index().groupby('tdiff').mean(numeric_only=True).reset_index()\n",
    "allmeansb = allsbevents.reset_index().groupby('tdiff').mean(numeric_only=True).reset_index()\n",
    "\n",
    "allmeants = alltsevents.reset_index().groupby('tdiff').mean(numeric_only=True).reset_index()\n",
    "allmeanfu = allfuevents.reset_index().groupby('tdiff').mean(numeric_only=True).reset_index()\n",
    "allmeanfd = allfdevents.reset_index().groupby('tdiff').mean(numeric_only=True).reset_index()\n",
    "\n",
    "allmeanuc = allucevents.reset_index().groupby('tdiff').mean(numeric_only=True).reset_index()\n",
    "allmeansp = allspevents.reset_index().groupby('tdiff').mean(numeric_only=True).reset_index()"
   ]
  },
  {
   "cell_type": "code",
   "execution_count": null,
   "id": "9013f583",
   "metadata": {},
   "outputs": [],
   "source": [
    "fig, axes = plt.subplot_mosaic(\n",
    "    [[\"(a)\", \"(b)\"],\n",
    "     [\"(c)\", \"(d)\"],\n",
    "     [\"(e)\", \"(f)\"],\n",
    "     [\"(g)\", \"(h)\"]],\n",
    "    sharex=True, sharey=True,\n",
    "    figsize=(20, 16)\n",
    ")\n",
    "\n",
    "plotEvent(allmeansyn, axes['(a)'], wlims=(0, 120), tlims=(-6, 6), plims=(-4, 4), pos='l')\n",
    "plotEvent(allmeansyf, axes['(b)'], wlims=(0, 120), tlims=(-6, 6), plims=(-4, 4), pos='r')\n",
    "plotEvent(allmeansb, axes['(c)'], wlims=(0, 120), tlims=(-6, 6), plims=(-4, 4), pos='l')\n",
    "plotEvent(allmeants, axes['(d)'], wlims=(0, 120), tlims=(-6, 6), plims=(-4, 4), pos='r')\n",
    "plotEvent(allmeanfu, axes['(e)'], wlims=(0, 120), tlims=(-6, 6), plims=(-4, 4), pos='l')\n",
    "plotEvent(allmeanfd, axes['(f)'], wlims=(0, 120), tlims=(-6, 6), plims=(-4, 4), pos='r')\n",
    "plotEvent(allmeansp, axes['(g)'], wlims=(0, 120), tlims=(-6, 6), plims=(-4, 4), pos='l')\n",
    "plotEvent(allmeanuc, axes['(h)'], wlims=(0, 120), tlims=(-6, 6), plims=(-4, 4), pos='r')\n",
    "identify_axes(axes, labels=\n",
    "              [\"Synoptic storm\", \"Synoptic front\",\n",
    "               \"Storm-burst\", \"Thunderstorm\",\n",
    "               \"Front-up\", \"Front-down\",\n",
    "               \"Spike\", \"Unclassified\"])\n",
    "tlegendline = mlines.Line2D([], [], color='red', marker='^',\n",
    "                            markerfacecolor=\"None\",\n",
    "                            label=r\"Temperature [$^o$C]\")\n",
    "dlegendline = mlines.Line2D([], [], color='orangered',\n",
    "                            marker='.', markerfacecolor=\"None\",\n",
    "                            label=r\"Dew point [$^o$C]\")\n",
    "plegendline = mlines.Line2D([], [], color='purple',\n",
    "                            ls='--', label=r\"Pressure [hPa]\")\n",
    "wlegendline = mlines.Line2D([], [], color='#4C72B0',\n",
    "                            label=r\"Wind speed [km/h]\")\n",
    "axes['(a)'].legend(handles=[wlegendline, plegendline,\n",
    "                            tlegendline, dlegendline], loc=3,\n",
    "                   fontsize='small')\n",
    "axes['(g)'].set_xlabel(\"Time since gust [min]\")\n",
    "axes['(h)'].set_xlabel(\"Time since gust [min]\")\n",
    "plt.tight_layout()\n",
    "\n",
    "fig.savefig(pjoin(DATADIR, \"plots\", \"mean_auto_storm_profile.jpg\"), dpi=600,\n",
    "            bbox_inches=\"tight\")"
   ]
  }
 ],
 "metadata": {
  "kernelspec": {
   "display_name": "Python 3.9.16 ('sktime')",
   "language": "python",
   "name": "python3"
  },
  "language_info": {
   "codemirror_mode": {
    "name": "ipython",
    "version": 3
   },
   "file_extension": ".py",
   "mimetype": "text/x-python",
   "name": "python",
   "nbconvert_exporter": "python",
   "pygments_lexer": "ipython3",
   "version": "3.9.18"
  },
  "vscode": {
   "interpreter": {
    "hash": "6eacf74b18b37d56e760b681462e94465875e1f6e8e41eaf2cd6ab24d5297ceb"
   }
  }
 },
 "nbformat": 4,
 "nbformat_minor": 5
}
