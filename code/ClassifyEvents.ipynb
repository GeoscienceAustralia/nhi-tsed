{
 "cells": [
  {
   "cell_type": "markdown",
   "metadata": {},
   "source": [
    "# Classification of wind gust events\n",
    "\n",
    "This notebook enables classification of daily maximum wind gust events into specific classes of storm type. Following the approach of Cook (2023)[1], the notebook will plot the time history of gust wind speed, mean wind speed, direction, temperature and station pressure over a 2-hour window around each gust event. The user then selects the storm type from one of 8 options:\n",
    "\n",
    "* Unclassified\n",
    "* Spike\n",
    "* Synoptic storm\n",
    "* Synoptic front\n",
    "* Storm burst\n",
    "* Front down\n",
    "* Front up\n",
    "* Thunderstorm\n",
    "\n",
    "The definitions of these events largely follow Cook's (2023) definitions, but we have added a \"Synoptic front\" event, which are typically events such as southerly busters common along the NSW coast, or similar gust events that have characteristics of a density current flow. \"Synoptic storm\" will also capture tropical cyclone events in northern parts of the country, but these can also be identified by comparing to the location of TC events at the time of a peak gust.\n",
    "\n",
    "I suggest running this notebook via a browser rather than directly in VS Code. In a command prompt, run the following:\n",
    "\n",
    "```\n",
    "conda activate process\n",
    "cd <path\\to\\this\\folder>\n",
    "jupyter notebook\n",
    "```\n",
    "\n",
    "This will start the notebook server, and open the folder listing in the default browser. You can then open this notebook and run the code blocks.\n",
    "\n",
    "\n",
    "[1]: Cook, N. J., 2023: Automated classification of gust events in the contiguous USA. *Journal of Wind Engineering and Industrial Aerodynamics*, **234**, 105330, https://doi.org/10.1016/j.jweia.2023.105330.\n"
   ]
  },
  {
   "cell_type": "code",
   "execution_count": 11,
   "metadata": {},
   "outputs": [],
   "source": [
    "%matplotlib inline\n",
    "\n",
    "import os\n",
    "import time\n",
    "from functools import partial\n",
    "\n",
    "import pandas as pd\n",
    "import numpy as np\n",
    "from datetime import datetime, timedelta\n",
    "\n",
    "import matplotlib.pyplot as plt\n",
    "import ipywidgets as widgets\n",
    "from ipywidgets import Layout, Box, VBox, HBox\n",
    "from IPython.display import display, clear_output\n",
    "import seaborn as sns\n",
    "sns.set_style('whitegrid')\n",
    "import warnings\n",
    "warnings.filterwarnings(\"ignore\", 'SettingWithCopyWarning')"
   ]
  },
  {
   "cell_type": "code",
   "execution_count": 12,
   "metadata": {},
   "outputs": [],
   "source": [
    "BASEDIR = r\"X:\\georisk\\HaRIA_B_Wind\\data\\derived\\obs\\1-minute\\events\"\n",
    "hqstations = pd.read_csv(\"..\\data\\hqstations.csv\", index_col=\"stnNum\")\n",
    "options = [(stnName, idx) for idx, stnName in hqstations['stnName'].items()]\n",
    "out = widgets.Output()"
   ]
  },
  {
   "cell_type": "code",
   "execution_count": 13,
   "metadata": {},
   "outputs": [],
   "source": [
    "def loadData(stnNum):\n",
    "    fname = os.path.join(BASEDIR, \"events\", f\"{stnNum:06d}.pkl\")\n",
    "    df = pd.read_pickle(fname)\n",
    "    df.reset_index(inplace=True)\n",
    "    df.set_index(['date'], inplace=True)\n",
    "    return df\n",
    "\n",
    "def plotEvent(pdf, fig):\n",
    "    fig.clear()\n",
    "    ax = fig.add_axes([0, 0, 1, 1])\n",
    "    ax.set_zorder(1)\n",
    "    ax.patch.set_visible(False)\n",
    "    ax2 = ax.twinx()\n",
    "    axt = ax.twinx()\n",
    "    axp = ax.twinx()\n",
    "    axr = ax.twinx()\n",
    "    \n",
    "    pdf.plot.line(x='tdiff', y='windgust', label='windgust', marker='o', ax=ax, color='C0', alpha=0.9, lw=2,\n",
    "                  markerfacecolor=\"None\")\n",
    "    pdf.plot.line(x='tdiff', y='windspd', label='windspd', marker='.', ax=ax, color='C0', alpha=0.5)\n",
    "    pdf.plot.scatter(x='tdiff', y='winddir', label='winddir', ax=ax2, color='g', marker='o',)\n",
    "    pdf.plot.line(x='tdiff', y='tempanom', label='tempanom', color='r', ax=axt, marker='^',\n",
    "                  markerfacecolor=\"None\", markevery=5)\n",
    "    pdf.plot.line(x='tdiff', y='dpanom', label='dpanom', color='orangered', ax=axt,\n",
    "                  marker='.', markerfacecolor=\"None\", markevery=5)\n",
    "    pdf.plot.line(x='tdiff', y='stnpanom', label='stnpanom', color='purple', lw=2, ax=axp,\n",
    "                  ls='--')\n",
    "    pdf.plot.line(x='tdiff', y='rh', label='rh', color='lime', ax=axr)\n",
    "\n",
    "    ax.legend(loc='upper left')\n",
    "    ax2.legend(loc='center left')\n",
    "    axt.legend(loc='upper right')\n",
    "    axp.legend(loc='lower left')\n",
    "    axr.legend(loc='lower right')\n",
    "\n",
    "    ax.spines['left'].set_color('C0')\n",
    "    ax.yaxis.label.set_color('C0')\n",
    "    ax.tick_params(axis='y', colors='C0')\n",
    "    ax.set_ylabel(\"Gust/mean wind speed [km/h]\")\n",
    "    ax.spines['right'].set_color('g')\n",
    "\n",
    "    ax2.spines[['right']].set_position((\"axes\", 1.0))\n",
    "    ax2.spines[['right']].set_color('g')\n",
    "    ax2.yaxis.label.set_color('g')\n",
    "    ax2.tick_params(axis='y', colors='g')\n",
    "    ax2.set_ylabel(r\"windir\")\n",
    "    \n",
    "    axt.spines[['right']].set_position((\"axes\", 1.075))\n",
    "    axt.spines[['right']].set_color('r')\n",
    "    axt.yaxis.label.set_color('r')\n",
    "    axt.tick_params(axis='y', colors='r')\n",
    "    axt.set_ylabel(r\"Temperature/dewpoint anomaly [$^o$C]\")\n",
    "    \n",
    "    axp.spines[['right']].set_position(('axes', 1.225))\n",
    "    axp.spines[['right']].set_color('purple')\n",
    "    axp.yaxis.label.set_color('purple')\n",
    "    axp.tick_params(axis='y', colors='purple')\n",
    "    axp.set_ylabel(\"Pressure anomaly [hPa]\")\n",
    "    \n",
    "    axr.spines[['right']].set_position(('axes', 1.15))\n",
    "    axr.spines[['right']].set_color('lime')\n",
    "    axr.yaxis.label.set_color('lime')\n",
    "    axr.tick_params(axis='y', colors='lime')\n",
    "    axr.set_ylabel(\"Relative humidity [%]\")\n",
    "    \n",
    "    gmin, gmax = ax.get_ylim()\n",
    "    pmin, pmax = axp.get_ylim()\n",
    "    tmin, tmax = axt.get_ylim()\n",
    "    ax.set_ylim((0, max(gmax, 100)))\n",
    "    axp.set_ylim((min(-2.0, pmin), max(pmax, 2.0)))\n",
    "    axt.set_ylim((min(-2.0, tmin), max(tmax, 2.0)))\n",
    "    ax2.set_ylim((0, 360))\n",
    "    ax2.set_yticks(np.arange(0, 361, 90))\n",
    "    axr.set_ylim((0, 100))\n",
    "    ax.set_title(pdf.index[0])\n",
    "    ax.grid(True)\n",
    "    ax2.grid(False)\n",
    "    axt.grid(False)\n",
    "    axp.grid(False)\n",
    "    axr.grid(False)\n",
    "    return fig\n",
    "\n",
    "class Plotter:\n",
    "    def __init__(self, df, fig, initial=0):\n",
    "        clear_output(wait=False)\n",
    "        self.df = df\n",
    "        self.fig = fig\n",
    "        self.value = initial\n",
    "        self.nevents = len(self.df.index.unique('date'))\n",
    "        eventdate = self.df.index.unique('date')[self.value]\n",
    "        plotEvent(self.df[self.df.index==eventdate], self.fig)\n",
    "        \n",
    "    def plot(self, amount=1):\n",
    "        with out:\n",
    "            if self.value < self.nevents - 1:\n",
    "                self.value += amount\n",
    "                print(f\"Event #: {self.value} of {self.nevents}\")\n",
    "                eventdate = self.df.index.unique('date')[self.value]\n",
    "                plotEvent(self.df[self.df.index==eventdate], self.fig)\n",
    "                return self.fig\n",
    "            else:\n",
    "                #print(\"No more events\")\n",
    "                self.fig.clf()\n",
    "                return None\n",
    "\n",
    "    def __iter__(self, sentinal=False):\n",
    "        return iter(self.plot, sentinal)\n",
    "\n",
    "    def __del__(self):\n",
    "        print(\"deleting plotter\")\n",
    "        plt.close(self.fig)\n",
    "\n",
    "\n",
    "\n",
    "def button_callback(w):\n",
    "    #out.clear_output(wait=True)\n",
    "    with out:\n",
    "        eventdate = df.index.unique('date')[plotter.value]\n",
    "        print(f\"Date: {eventdate} | Storm type: {selector.value}\")\n",
    "        eventlist.append((stnselector.value, eventdate, selector.value))\n",
    "\n",
    "#@out.capture(clear_output=True)\n",
    "def plotnext(plotter, w):\n",
    "    #print(dir(w))\n",
    "    out.clear_output(wait=False)\n",
    "    with out:\n",
    "        plotter.plot()\n",
    "        if plotter.value <= plotter.nevents - 1:\n",
    "            display(plotter.fig)\n",
    "        else:\n",
    "            del plotter\n"
   ]
  },
  {
   "cell_type": "code",
   "execution_count": 14,
   "metadata": {},
   "outputs": [],
   "source": [
    "def dropdown_eventhandler(change):\n",
    "    out.clear_output(wait=False)\n",
    "#    global df\n",
    "#    df = loadData(change.new)\n",
    "stnselector = widgets.Dropdown(options=options, description='Station', value=3003)"
   ]
  },
  {
   "cell_type": "code",
   "execution_count": 15,
   "metadata": {},
   "outputs": [],
   "source": [
    "selector = widgets.ToggleButtons(\n",
    "    options=[\"Unclassified\", \"Spike\", \"Synoptic storm\", \"Synoptic front\",\n",
    "             \"Storm-burst\", \"Front down\", \"Front up\", \"Thunderstorm\"],\n",
    "    description=\"Storm type\",\n",
    "    disabled=False, \n",
    "    layout=Layout(width='auto'),\n",
    "    style={\"button_width\": \"100px\"}\n",
    ")\n",
    "assignbtn = widgets.Button(description=\"Assign storm type\")\n",
    "nextevent = widgets.Button(description=\"Next event\")\n",
    "\n",
    "eventlist = []\n"
   ]
  },
  {
   "cell_type": "markdown",
   "metadata": {},
   "source": [
    "We generate a dropdown list of stations to select from. Arguably, one does not have to go through all stations, but to not do that will reduce the training sample of events. "
   ]
  },
  {
   "cell_type": "code",
   "execution_count": 16,
   "metadata": {},
   "outputs": [
    {
     "data": {
      "application/vnd.jupyter.widget-view+json": {
       "model_id": "ca84fe311f6a4a2a85e7986112f907ae",
       "version_major": 2,
       "version_minor": 0
      },
      "text/plain": [
       "Dropdown(description='Station', options=(('BROOME AIRPORT', 3003), ('PORT HEDLAND AIRPORT', 4032), ('LEARMONTH…"
      ]
     },
     "metadata": {},
     "output_type": "display_data"
    }
   ],
   "source": [
    "stnselector.observe(dropdown_eventhandler, names='value')\n",
    "display(stnselector)\n"
   ]
  },
  {
   "cell_type": "markdown",
   "metadata": {},
   "source": [
    "After selecting a station, run the next cell to generate the plot of the first event for that station, as well as show the classification buttons. \n",
    "\n",
    "**Each time a new station is selected, you need to re-run the next code cell**"
   ]
  },
  {
   "cell_type": "code",
   "execution_count": 17,
   "metadata": {},
   "outputs": [
    {
     "data": {
      "application/vnd.jupyter.widget-view+json": {
       "model_id": "6d5ed822c4a24ed586f38f61494d4aa4",
       "version_major": 2,
       "version_minor": 0
      },
      "text/plain": [
       "ToggleButtons(description='Storm type', layout=Layout(width='auto'), options=('Unclassified', 'Spike', 'Synopt…"
      ]
     },
     "metadata": {},
     "output_type": "display_data"
    },
    {
     "data": {
      "application/vnd.jupyter.widget-view+json": {
       "model_id": "c08fc8e3b8d5487c840f2f9e5368b2b5",
       "version_major": 2,
       "version_minor": 0
      },
      "text/plain": [
       "HBox(children=(Button(description='Assign storm type', style=ButtonStyle()), Button(description='Next event', …"
      ]
     },
     "metadata": {},
     "output_type": "display_data"
    },
    {
     "data": {
      "application/vnd.jupyter.widget-view+json": {
       "model_id": "58eb13c5f02a47f3ae32a319a78a617c",
       "version_major": 2,
       "version_minor": 0
      },
      "text/plain": [
       "Output()"
      ]
     },
     "execution_count": 17,
     "metadata": {},
     "output_type": "execute_result"
    }
   ],
   "source": [
    "out = widgets.Output()\n",
    "df = None\n",
    "df = loadData(stnselector.value)\n",
    "nevents = len(df.index.unique('date'))\n",
    "fig = plt.figure(figsize=(12, 6))\n",
    "plotter = Plotter(df, fig)\n",
    "assignbtn.on_click(button_callback)\n",
    "nextevent.on_click(partial(plotnext, plotter))\n",
    "\n",
    "display(selector, HBox([assignbtn, nextevent]))\n",
    "out.clear_output(wait=True)\n",
    "with out:\n",
    "    plt.show()\n",
    "\n",
    "out\n",
    "\n"
   ]
  },
  {
   "cell_type": "markdown",
   "metadata": {},
   "source": [
    "Now we can show the list of storm types, keyed by station number and date. Then save the dataframe to a file for further analysis using the `to_csv` method on the dataframe."
   ]
  },
  {
   "cell_type": "code",
   "execution_count": null,
   "metadata": {},
   "outputs": [],
   "source": [
    "pd.DataFrame(eventlist, columns=['stnNum', 'date', 'stormType']).to_csv(r\"..\\output\\visual_storm_types.csv\")"
   ]
  }
 ],
 "metadata": {
  "kernelspec": {
   "display_name": "Python 3.9.18 ('tsed')",
   "language": "python",
   "name": "python3"
  },
  "language_info": {
   "codemirror_mode": {
    "name": "ipython",
    "version": 3
   },
   "file_extension": ".py",
   "mimetype": "text/x-python",
   "name": "python",
   "nbconvert_exporter": "python",
   "pygments_lexer": "ipython3",
   "version": "3.9.18"
  },
  "vscode": {
   "interpreter": {
    "hash": "af3b925763e8f1f17c09db8c2705ec2b24958470b10d34246498b8f6b66669d7"
   }
  }
 },
 "nbformat": 4,
 "nbformat_minor": 2
}
