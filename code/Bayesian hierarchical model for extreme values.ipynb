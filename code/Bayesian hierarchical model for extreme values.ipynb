{
 "cells": [
  {
   "cell_type": "markdown",
   "metadata": {},
   "source": [
    "# Bayesian hierarchical modelling for extreme value distributions\n",
    "\n",
    "This notebook tests whether it's possible to build a Bayesian Hierarchical Model (BHM) to fit extreme value distributions to daily maximum wind gust data from a collection of automatic weather stations. \n",
    "\n",
    "Hierarchical models are useful where there are multiple datasets that have parameters from a shared distribution. That is, the parameters of GPD fits of observations at each station are drawn from a common distribution, which we also need to determine (and use a Bayesian approach to do that too). \n",
    "\n",
    "## Generalised Pareto Distribution\n",
    "\n",
    "Parameters of the GPD:\n",
    "\n",
    "\n",
    "## Data\n",
    "\n",
    "Daily maximum wind speeds for a set of automatic weather stations (AWS) in South East Queensland.\n",
    "\n",
    "## Validation\n",
    "\n",
    "Comparison to Matt Mason's estimation used in SWHA SEQ"
   ]
  },
  {
   "cell_type": "code",
   "execution_count": null,
   "metadata": {},
   "outputs": [],
   "source": [
    "%matplotlib inline\n",
    "\n",
    "import numpy as np\n",
    "import pandas as pd\n",
    "import pymc3 as pm\n",
    "from scipy.stats import genpareto\n",
    "\n",
    "import matplotlib.pyplot as plt\n"
   ]
  },
  {
   "cell_type": "markdown",
   "metadata": {},
   "source": [
    "Read in all daily maximum wind gust data from stations in the region"
   ]
  },
  {
   "cell_type": "code",
   "execution_count": null,
   "metadata": {},
   "outputs": [],
   "source": [
    "data = pd.read_pickle()\n",
    "\n",
    "station_ids = data.stnId.unique()\n",
    "bins = np.arange(60, 200, 2)\n"
   ]
  },
  {
   "cell_type": "markdown",
   "metadata": {},
   "source": [
    "Non-hierarchical model:"
   ]
  },
  {
   "cell_type": "code",
   "execution_count": null,
   "metadata": {},
   "outputs": [],
   "source": [
    "traces = {}\n",
    "bins = np.arange(60, 200, 2)\n",
    "\n",
    "for stn in station_ids:\n",
    "    datafile = f(stn)\n",
    "    sdata = pd.read_pickle(datafile)\n",
    "    sws = sdata.windgust.values\n",
    "    shist, bin_edges = np.histogram(sws, bins, density=True)\n",
    "\n",
    "    with pm.Model() as stnModel:\n",
    "        mu = pm.Normal('mu', mu=0, sigma=1)\n",
    "        sigma = pm.Normal('sigma', mu=0, sigma=1)\n",
    "        xi = pm.HalfCauchy('xi', beta=1)\n",
    "        eps = pm.HalfCauchy('eps', beta=1)\n",
    "        fit = genpareto.pdf(bins, xi, mu, sigma) # Some function to fit the distribution\n",
    "        y_like = pm.Normal('y_like', mu=fit, sigma=eps, observed=shist)\n",
    "        trace = pm.sample(progressbar=False)\n",
    "\n",
    "    traces[stn] = trace"
   ]
  },
  {
   "cell_type": "markdown",
   "metadata": {},
   "source": [
    "Hierarchical model:"
   ]
  },
  {
   "cell_type": "code",
   "execution_count": null,
   "metadata": {},
   "outputs": [],
   "source": [
    "with pm.Model() as hmodel:\n",
    "    # Hyperpriors\n",
    "    mu_mu = pm.Normal(\"mu_mu\", mu=0., sigma=10)\n",
    "    sigma_mu = pm.HalfCauchy('sigma_mu', beta=5\n",
    "                             \n",
    "                             )\n",
    "    #mu_sigma = pm.Normal(\"mu_sigma\", mu=0., sigma=1)\n",
    "    #sigma_sigma = pm.HalfCauchy('sigma_sigma', beta=1)\n",
    "    #beta_xi = pm.HalfCauchy(\"beta_xi\", beta=1)\n",
    "    # Station-level parameters\n",
    "    mu = pm.Normal('mu', mu=mu_mu, sigma=sigma_mu, shape=len(station_ids))\n",
    "    sigma = pm.HalfCauchy('sigma', beta=5, shape=len(station_ids))\n",
    "    xi = pm.Exponential('xi', lam=1, shape=len(station_ids))\n",
    "\n",
    "    eps = pm.HalfCauchy('eps', beta=1)\n",
    "\n",
    "    for i, stnidx in enumerate(station_ids):\n",
    "        stationdata = data[data['station']==stnidx]['windgust']\n",
    "        \n",
    "        @pm.potential\n",
    "        def gpd_potential(value=stationdata, mu=mu[i], sigma=sigma[i], xi=xi[i]):\n",
    "            return -np.sum(np.log(genpareto.pdf(value, xi, loc=mu, scale=sigma)))\n",
    "        \n",
    "    obs = pm.DensityDist(\"obs\", gpd_potential, observed=stationdata)\n"
   ]
  },
  {
   "cell_type": "code",
   "execution_count": null,
   "metadata": {},
   "outputs": [],
   "source": [
    "with hmodel:\n",
    "    hierarchical_trace = pm.sample()"
   ]
  },
  {
   "cell_type": "code",
   "execution_count": null,
   "metadata": {},
   "outputs": [],
   "source": [
    "pm.traceplot(hierarchical_trace)"
   ]
  }
 ],
 "metadata": {
  "kernelspec": {
   "display_name": "Python 3.9.7 ('base')",
   "language": "python",
   "name": "python3"
  },
  "language_info": {
   "name": "python",
   "version": "3.9.7"
  },
  "orig_nbformat": 4,
  "vscode": {
   "interpreter": {
    "hash": "2ea474a113ff55dff1cbc38a3731e9fb22cfbc4b847a3881f148469c107cd800"
   }
  }
 },
 "nbformat": 4,
 "nbformat_minor": 2
}
