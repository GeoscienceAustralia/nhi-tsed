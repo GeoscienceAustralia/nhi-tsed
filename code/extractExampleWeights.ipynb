{
 "cells": [
  {
   "cell_type": "code",
   "execution_count": 1,
   "metadata": {},
   "outputs": [],
   "source": [
    "%matplotlib inline\n",
    "from os.path import join as pjoin\n",
    "import matplotlib.pyplot as plt\n",
    "from matplotlib import patheffects\n",
    "import pandas as pd\n",
    "import numpy as np\n",
    "import seaborn as sns\n",
    "\n",
    "from sktime.classification.kernel_based import RocketClassifier, Arsenal\n",
    "from sklearn.preprocessing import StandardScaler\n",
    "\n",
    "from stndata import ONEMINUTESTNNAMES\n",
    "\n",
    "np.random.seed(1000)\n"
   ]
  },
  {
   "cell_type": "markdown",
   "metadata": {},
   "source": [
    "Load the stations, and the manual storm classification data. That data is stored in a separate csv file, indexed by date and station number. We then split the storm data into a training set and a test set. Bear in mind this is still the subset of high quality stations. There's another 500-odd stations that we have processed to extract daily maximum wind gust data."
   ]
  },
  {
   "cell_type": "code",
   "execution_count": 2,
   "metadata": {},
   "outputs": [],
   "source": [
    "BASEDIR = r\"X:\\georisk\\HaRIA_B_Wind\\data\\derived\\obs\\1-minute\\events\"\n",
    "\n",
    "stndf = pd.read_csv(pjoin(BASEDIR, 'hqstations.csv'), index_col=\"stnNum\")\n",
    "\n",
    "eventFile = pjoin(BASEDIR, \"CA_20230518_Hobart.csv\")\n",
    "#eventFile = pjoin(BASEDIR, \"NA_all.csv\")\n",
    "stormdf = pd.read_csv(eventFile, usecols=[1, 2, 3], parse_dates=['date'],\n",
    "                      dtype={'stnNum': int,\n",
    "                             'stormType': 'category'})\n",
    "\n",
    "#stormdf = pd.read_csv(eventFile, usecols=[2, 3, 4], parse_dates=['date'],\n",
    "#                dtype={'stnNum': float,\n",
    "#                       'stormType': 'category'},\n",
    "#                converters={'stnNum': lambda s: int(float(s.strip() or 0))})\n",
    "\n",
    "stormdf.set_index(['stnNum', 'date'], inplace=True)\n",
    "nevents = len(stormdf)\n",
    "\n",
    "# Take a random selection of 200 storms to test against:\n",
    "test_storms = stormdf.sample(200)\n",
    "train_storms = stormdf.drop(test_storms.index)\n",
    "ntrain = len(train_storms)"
   ]
  },
  {
   "cell_type": "code",
   "execution_count": 3,
   "metadata": {},
   "outputs": [
    {
     "data": {
      "text/plain": [
       "'1.4.0'"
      ]
     },
     "execution_count": 3,
     "metadata": {},
     "output_type": "execute_result"
    }
   ],
   "source": [
    "import sklearn; sklearn.__version__"
   ]
  },
  {
   "cell_type": "code",
   "execution_count": 6,
   "metadata": {},
   "outputs": [],
   "source": [
    "def loadData(stnNum: int) -> pd.DataFrame:\n",
    "    \"\"\"\n",
    "    Load event data for a given station. Missing values are interpolated\n",
    "    linearly - if values are missing at the start or end they are backfilled\n",
    "    from the nearest valid value.\n",
    "\n",
    "    This data has been extracted by `extractStationData.py`, and is stored in\n",
    "    pickle files, so there should be no issues around type conversions.\n",
    "\n",
    "    :param stnNum: BoM station number\n",
    "    :type stnNum: int\n",
    "    :return: DataFrame holding the data of all gust events for a station\n",
    "    :rtype: `pd.DataFrame`\n",
    "    \"\"\"\n",
    "    fname = pjoin(BASEDIR, \"events\", f\"{stnNum:06d}.pkl\")\n",
    "    df = pd.read_pickle(fname)\n",
    "    df['date'] = pd.to_datetime(df['date'])\n",
    "    df['windgust'] = df['windgust'].interpolate(method='linear').bfill()\n",
    "    df['tempanom'] = df['tempanom'].interpolate(method='linear').bfill()\n",
    "    df['stnpanom'] = df['stnpanom'].interpolate(method='linear').bfill()\n",
    "    df['dpanom'] = df['dpanom'].interpolate(method='linear').bfill()\n",
    "    df['windspd'] = df['windspd'].interpolate(method='linear').bfill()\n",
    "    df['uanom'] = df['uanom'].interpolate(method='linear').bfill()\n",
    "    df['vanom'] = df['vanom'].interpolate(method='linear').bfill()\n",
    "    vars = ['windgust', 'tempanom', 'stnpanom',\n",
    "            'dpanom', 'windspd', 'uanom', 'vanom']\n",
    "\n",
    "    #for idx, tmpdf in df.groupby('date'):\n",
    "    #    scaler = StandardScaler()\n",
    "    #    scalevals = scaler.fit_transform(tmpdf[vars].values)\n",
    "    #    df.loc[df['date'] == idx, vars] = scalevals\n",
    "\n",
    "    df['stnNum'] = stnNum\n",
    "    df.reset_index(inplace=True)\n",
    "    df.set_index(['stnNum', 'date'], inplace=True)\n",
    "\n",
    "    return df"
   ]
  },
  {
   "cell_type": "markdown",
   "metadata": {},
   "source": [
    "Load all the events into a single dataframe. We'll then pick out the events based on whether they are in the training set or the test set, using the index from the storm classification data"
   ]
  },
  {
   "cell_type": "code",
   "execution_count": 7,
   "metadata": {},
   "outputs": [],
   "source": [
    "dflist = []\n",
    "for stn in stndf.index:\n",
    "    df = loadData(stn)\n",
    "    dflist.append(df)\n",
    "\n",
    "alldf = pd.concat(dflist)\n",
    "alldf['idx'] = alldf.index"
   ]
  },
  {
   "cell_type": "markdown",
   "metadata": {},
   "source": [
    "Split the event data into training and test datasets. This is simple because we set the index of both the event data and the storm classification data to be the station number and date of the event. \n",
    "\n",
    "The event data needs to be reshaped into a 3-d array (for input into the classifier), where there are n events in the first dimension. The second dimension represents the time (-60 minutes to +60 minutes) and the third dimension represents the different variables. We can potentially vary the list of variables used, but we start with the wind gust and the anomalies of temperature, dewpoint and station pressure."
   ]
  },
  {
   "cell_type": "code",
   "execution_count": 8,
   "metadata": {},
   "outputs": [],
   "source": [
    "eventdf_train = alldf.loc[train_storms.index]\n",
    "eventdf_test = alldf.loc[test_storms.index]\n",
    "\n",
    "vars = ['windgust', 'tempanom', 'stnpanom', 'dpanom']\n",
    "scaler = StandardScaler()\n",
    "eventdf_train[vars] = scaler.fit_transform(eventdf_train[vars].values)\n",
    "eventdf_test[vars] = scaler.transform(eventdf_test[vars].values)\n",
    "\n",
    "nvars = len(vars)\n",
    "X = eventdf_train.reset_index().set_index(['idx', 'tdiff'])[vars]\n",
    "XX = np.moveaxis(X.values.reshape((ntrain, 121, nvars)), 1, -1)\n",
    "\n",
    "X_test = eventdf_test.reset_index().set_index(['idx', 'tdiff'])[vars]\n",
    "XX_test = np.moveaxis(X_test.values.reshape((200, 121, nvars)), 1, -1)\n",
    "\n",
    "fulltest = alldf.loc[stormdf.index].reset_index().set_index(['idx', 'tdiff'])[vars]\n",
    "fulltestarray = np.moveaxis(fulltest.values.reshape((len(stormdf), 121, nvars)), 1, -1)\n",
    "fully = np.array(list(stormdf.loc[fulltest.reset_index()['idx'].unique()]['stormType'].values))\n",
    "\n",
    "y = np.array(train_storms['stormType'].values)"
   ]
  },
  {
   "cell_type": "markdown",
   "metadata": {},
   "source": [
    "Here's where we train and run the classifier on the test event set. The classifier is fitted to the training data (`XX`), then we predict the class of the test data (`XX_test`). Results are compared to the visual classification of the test data."
   ]
  },
  {
   "cell_type": "code",
   "execution_count": 9,
   "metadata": {},
   "outputs": [
    {
     "data": {
      "text/html": [
       "<style>#sk-ab2357a2-1d60-4ea7-a5a3-47d4066120a7 {color: black;background-color: white;}#sk-ab2357a2-1d60-4ea7-a5a3-47d4066120a7 pre{padding: 0;}#sk-ab2357a2-1d60-4ea7-a5a3-47d4066120a7 div.sk-toggleable {background-color: white;}#sk-ab2357a2-1d60-4ea7-a5a3-47d4066120a7 label.sk-toggleable__label {cursor: pointer;display: block;width: 100%;margin-bottom: 0;padding: 0.3em;box-sizing: border-box;text-align: center;}#sk-ab2357a2-1d60-4ea7-a5a3-47d4066120a7 label.sk-toggleable__label-arrow:before {content: \"▸\";float: left;margin-right: 0.25em;color: #696969;}#sk-ab2357a2-1d60-4ea7-a5a3-47d4066120a7 label.sk-toggleable__label-arrow:hover:before {color: black;}#sk-ab2357a2-1d60-4ea7-a5a3-47d4066120a7 div.sk-estimator:hover label.sk-toggleable__label-arrow:before {color: black;}#sk-ab2357a2-1d60-4ea7-a5a3-47d4066120a7 div.sk-toggleable__content {max-height: 0;max-width: 0;overflow: hidden;text-align: left;background-color: #f0f8ff;}#sk-ab2357a2-1d60-4ea7-a5a3-47d4066120a7 div.sk-toggleable__content pre {margin: 0.2em;color: black;border-radius: 0.25em;background-color: #f0f8ff;}#sk-ab2357a2-1d60-4ea7-a5a3-47d4066120a7 input.sk-toggleable__control:checked~div.sk-toggleable__content {max-height: 200px;max-width: 100%;overflow: auto;}#sk-ab2357a2-1d60-4ea7-a5a3-47d4066120a7 input.sk-toggleable__control:checked~label.sk-toggleable__label-arrow:before {content: \"▾\";}#sk-ab2357a2-1d60-4ea7-a5a3-47d4066120a7 div.sk-estimator input.sk-toggleable__control:checked~label.sk-toggleable__label {background-color: #d4ebff;}#sk-ab2357a2-1d60-4ea7-a5a3-47d4066120a7 div.sk-label input.sk-toggleable__control:checked~label.sk-toggleable__label {background-color: #d4ebff;}#sk-ab2357a2-1d60-4ea7-a5a3-47d4066120a7 input.sk-hidden--visually {border: 0;clip: rect(1px 1px 1px 1px);clip: rect(1px, 1px, 1px, 1px);height: 1px;margin: -1px;overflow: hidden;padding: 0;position: absolute;width: 1px;}#sk-ab2357a2-1d60-4ea7-a5a3-47d4066120a7 div.sk-estimator {font-family: monospace;background-color: #f0f8ff;border: 1px dotted black;border-radius: 0.25em;box-sizing: border-box;margin-bottom: 0.5em;}#sk-ab2357a2-1d60-4ea7-a5a3-47d4066120a7 div.sk-estimator:hover {background-color: #d4ebff;}#sk-ab2357a2-1d60-4ea7-a5a3-47d4066120a7 div.sk-parallel-item::after {content: \"\";width: 100%;border-bottom: 1px solid gray;flex-grow: 1;}#sk-ab2357a2-1d60-4ea7-a5a3-47d4066120a7 div.sk-label:hover label.sk-toggleable__label {background-color: #d4ebff;}#sk-ab2357a2-1d60-4ea7-a5a3-47d4066120a7 div.sk-serial::before {content: \"\";position: absolute;border-left: 1px solid gray;box-sizing: border-box;top: 2em;bottom: 0;left: 50%;}#sk-ab2357a2-1d60-4ea7-a5a3-47d4066120a7 div.sk-serial {display: flex;flex-direction: column;align-items: center;background-color: white;padding-right: 0.2em;padding-left: 0.2em;}#sk-ab2357a2-1d60-4ea7-a5a3-47d4066120a7 div.sk-item {z-index: 1;}#sk-ab2357a2-1d60-4ea7-a5a3-47d4066120a7 div.sk-parallel {display: flex;align-items: stretch;justify-content: center;background-color: white;}#sk-ab2357a2-1d60-4ea7-a5a3-47d4066120a7 div.sk-parallel::before {content: \"\";position: absolute;border-left: 1px solid gray;box-sizing: border-box;top: 2em;bottom: 0;left: 50%;}#sk-ab2357a2-1d60-4ea7-a5a3-47d4066120a7 div.sk-parallel-item {display: flex;flex-direction: column;position: relative;background-color: white;}#sk-ab2357a2-1d60-4ea7-a5a3-47d4066120a7 div.sk-parallel-item:first-child::after {align-self: flex-end;width: 50%;}#sk-ab2357a2-1d60-4ea7-a5a3-47d4066120a7 div.sk-parallel-item:last-child::after {align-self: flex-start;width: 50%;}#sk-ab2357a2-1d60-4ea7-a5a3-47d4066120a7 div.sk-parallel-item:only-child::after {width: 0;}#sk-ab2357a2-1d60-4ea7-a5a3-47d4066120a7 div.sk-dashed-wrapped {border: 1px dashed gray;margin: 0 0.4em 0.5em 0.4em;box-sizing: border-box;padding-bottom: 0.4em;background-color: white;position: relative;}#sk-ab2357a2-1d60-4ea7-a5a3-47d4066120a7 div.sk-label label {font-family: monospace;font-weight: bold;background-color: white;display: inline-block;line-height: 1.2em;}#sk-ab2357a2-1d60-4ea7-a5a3-47d4066120a7 div.sk-label-container {position: relative;z-index: 2;text-align: center;}#sk-ab2357a2-1d60-4ea7-a5a3-47d4066120a7 div.sk-container {/* jupyter's `normalize.less` sets `[hidden] { display: none; }` but bootstrap.min.css set `[hidden] { display: none !important; }` so we also need the `!important` here to be able to override the default hidden behavior on the sphinx rendered scikit-learn.org. See: https://github.com/scikit-learn/scikit-learn/issues/21755 */display: inline-block !important;position: relative;}#sk-ab2357a2-1d60-4ea7-a5a3-47d4066120a7 div.sk-text-repr-fallback {display: none;}</style><div id='sk-ab2357a2-1d60-4ea7-a5a3-47d4066120a7' class=\"sk-top-container\"><div class=\"sk-text-repr-fallback\"><pre>RocketClassifier()</pre><b>Please rerun this cell to show the HTML repr or trust the notebook.</b></div><div class=\"sk-container\" hidden><div class='sk-item'><div class=\"sk-estimator sk-toggleable\"><input class=\"sk-toggleable__control sk-hidden--visually\" id=UUID('5ac3e277-1f7a-4dba-b370-141356e78066') type=\"checkbox\" checked><label for=UUID('5ac3e277-1f7a-4dba-b370-141356e78066') class='sk-toggleable__label sk-toggleable__label-arrow'>RocketClassifier</label><div class=\"sk-toggleable__content\"><pre>RocketClassifier()</pre></div></div></div></div></div>"
      ],
      "text/plain": [
       "RocketClassifier()"
      ]
     },
     "execution_count": 9,
     "metadata": {},
     "output_type": "execute_result"
    }
   ],
   "source": [
    "rocket = RocketClassifier(num_kernels=10000)\n",
    "rocket.fit(XX, y)"
   ]
  },
  {
   "cell_type": "code",
   "execution_count": 10,
   "metadata": {},
   "outputs": [
    {
     "data": {
      "text/html": [
       "<style>#sk-adae4c9c-65f8-4252-a01f-84885b06d10d {color: black;background-color: white;}#sk-adae4c9c-65f8-4252-a01f-84885b06d10d pre{padding: 0;}#sk-adae4c9c-65f8-4252-a01f-84885b06d10d div.sk-toggleable {background-color: white;}#sk-adae4c9c-65f8-4252-a01f-84885b06d10d label.sk-toggleable__label {cursor: pointer;display: block;width: 100%;margin-bottom: 0;padding: 0.3em;box-sizing: border-box;text-align: center;}#sk-adae4c9c-65f8-4252-a01f-84885b06d10d label.sk-toggleable__label-arrow:before {content: \"▸\";float: left;margin-right: 0.25em;color: #696969;}#sk-adae4c9c-65f8-4252-a01f-84885b06d10d label.sk-toggleable__label-arrow:hover:before {color: black;}#sk-adae4c9c-65f8-4252-a01f-84885b06d10d div.sk-estimator:hover label.sk-toggleable__label-arrow:before {color: black;}#sk-adae4c9c-65f8-4252-a01f-84885b06d10d div.sk-toggleable__content {max-height: 0;max-width: 0;overflow: hidden;text-align: left;background-color: #f0f8ff;}#sk-adae4c9c-65f8-4252-a01f-84885b06d10d div.sk-toggleable__content pre {margin: 0.2em;color: black;border-radius: 0.25em;background-color: #f0f8ff;}#sk-adae4c9c-65f8-4252-a01f-84885b06d10d input.sk-toggleable__control:checked~div.sk-toggleable__content {max-height: 200px;max-width: 100%;overflow: auto;}#sk-adae4c9c-65f8-4252-a01f-84885b06d10d input.sk-toggleable__control:checked~label.sk-toggleable__label-arrow:before {content: \"▾\";}#sk-adae4c9c-65f8-4252-a01f-84885b06d10d div.sk-estimator input.sk-toggleable__control:checked~label.sk-toggleable__label {background-color: #d4ebff;}#sk-adae4c9c-65f8-4252-a01f-84885b06d10d div.sk-label input.sk-toggleable__control:checked~label.sk-toggleable__label {background-color: #d4ebff;}#sk-adae4c9c-65f8-4252-a01f-84885b06d10d input.sk-hidden--visually {border: 0;clip: rect(1px 1px 1px 1px);clip: rect(1px, 1px, 1px, 1px);height: 1px;margin: -1px;overflow: hidden;padding: 0;position: absolute;width: 1px;}#sk-adae4c9c-65f8-4252-a01f-84885b06d10d div.sk-estimator {font-family: monospace;background-color: #f0f8ff;border: 1px dotted black;border-radius: 0.25em;box-sizing: border-box;margin-bottom: 0.5em;}#sk-adae4c9c-65f8-4252-a01f-84885b06d10d div.sk-estimator:hover {background-color: #d4ebff;}#sk-adae4c9c-65f8-4252-a01f-84885b06d10d div.sk-parallel-item::after {content: \"\";width: 100%;border-bottom: 1px solid gray;flex-grow: 1;}#sk-adae4c9c-65f8-4252-a01f-84885b06d10d div.sk-label:hover label.sk-toggleable__label {background-color: #d4ebff;}#sk-adae4c9c-65f8-4252-a01f-84885b06d10d div.sk-serial::before {content: \"\";position: absolute;border-left: 1px solid gray;box-sizing: border-box;top: 2em;bottom: 0;left: 50%;}#sk-adae4c9c-65f8-4252-a01f-84885b06d10d div.sk-serial {display: flex;flex-direction: column;align-items: center;background-color: white;padding-right: 0.2em;padding-left: 0.2em;}#sk-adae4c9c-65f8-4252-a01f-84885b06d10d div.sk-item {z-index: 1;}#sk-adae4c9c-65f8-4252-a01f-84885b06d10d div.sk-parallel {display: flex;align-items: stretch;justify-content: center;background-color: white;}#sk-adae4c9c-65f8-4252-a01f-84885b06d10d div.sk-parallel::before {content: \"\";position: absolute;border-left: 1px solid gray;box-sizing: border-box;top: 2em;bottom: 0;left: 50%;}#sk-adae4c9c-65f8-4252-a01f-84885b06d10d div.sk-parallel-item {display: flex;flex-direction: column;position: relative;background-color: white;}#sk-adae4c9c-65f8-4252-a01f-84885b06d10d div.sk-parallel-item:first-child::after {align-self: flex-end;width: 50%;}#sk-adae4c9c-65f8-4252-a01f-84885b06d10d div.sk-parallel-item:last-child::after {align-self: flex-start;width: 50%;}#sk-adae4c9c-65f8-4252-a01f-84885b06d10d div.sk-parallel-item:only-child::after {width: 0;}#sk-adae4c9c-65f8-4252-a01f-84885b06d10d div.sk-dashed-wrapped {border: 1px dashed gray;margin: 0 0.4em 0.5em 0.4em;box-sizing: border-box;padding-bottom: 0.4em;background-color: white;position: relative;}#sk-adae4c9c-65f8-4252-a01f-84885b06d10d div.sk-label label {font-family: monospace;font-weight: bold;background-color: white;display: inline-block;line-height: 1.2em;}#sk-adae4c9c-65f8-4252-a01f-84885b06d10d div.sk-label-container {position: relative;z-index: 2;text-align: center;}#sk-adae4c9c-65f8-4252-a01f-84885b06d10d div.sk-container {/* jupyter's `normalize.less` sets `[hidden] { display: none; }` but bootstrap.min.css set `[hidden] { display: none !important; }` so we also need the `!important` here to be able to override the default hidden behavior on the sphinx rendered scikit-learn.org. See: https://github.com/scikit-learn/scikit-learn/issues/21755 */display: inline-block !important;position: relative;}#sk-adae4c9c-65f8-4252-a01f-84885b06d10d div.sk-text-repr-fallback {display: none;}</style><div id='sk-adae4c9c-65f8-4252-a01f-84885b06d10d' class=\"sk-top-container\"><div class=\"sk-text-repr-fallback\"><pre>Rocket()</pre><b>Please rerun this cell to show the HTML repr or trust the notebook.</b></div><div class=\"sk-container\" hidden><div class='sk-item'><div class=\"sk-estimator sk-toggleable\"><input class=\"sk-toggleable__control sk-hidden--visually\" id=UUID('e9e6e104-85c7-442c-a2a0-def0f609e724') type=\"checkbox\" checked><label for=UUID('e9e6e104-85c7-442c-a2a0-def0f609e724') class='sk-toggleable__label sk-toggleable__label-arrow'>Rocket</label><div class=\"sk-toggleable__content\"><pre>Rocket()</pre></div></div></div></div></div>"
      ],
      "text/plain": [
       "Rocket()"
      ]
     },
     "execution_count": 10,
     "metadata": {},
     "output_type": "execute_result"
    }
   ],
   "source": [
    "from sktime.transformations.panel.rocket import Rocket\n",
    "trf = Rocket()\n",
    "trf.fit(XX)"
   ]
  },
  {
   "cell_type": "code",
   "execution_count": 12,
   "metadata": {},
   "outputs": [],
   "source": [
    "def _apply_kernel_univariate(X, weights, length, bias, dilation, padding):\n",
    "    n_timepoints = len(X)\n",
    "\n",
    "    output_length = (n_timepoints + (2 * padding)) - ((length - 1) * dilation)\n",
    "\n",
    "    _ppv = 0\n",
    "    _max = np.NINF\n",
    "\n",
    "    end = (n_timepoints + padding) - ((length - 1) * dilation)\n",
    "\n",
    "    for i in range(-padding, end):\n",
    "        _sum = bias\n",
    "\n",
    "        index = i\n",
    "\n",
    "        for j in range(length):\n",
    "            if index > -1 and index < n_timepoints:\n",
    "                _sum = _sum + weights[j] * X[index]\n",
    "\n",
    "            index = index + dilation\n",
    "\n",
    "        if _sum > _max:\n",
    "            _max = _sum\n",
    "\n",
    "        if _sum > 0:\n",
    "            _ppv += 1\n",
    "\n",
    "    return np.float32(_ppv / output_length), np.float32(_max)\n",
    "\n",
    "def _apply_kernel_multivariate(\n",
    "    X, weights, length, bias, dilation, padding, num_channel_indices, channel_indices\n",
    "):\n",
    "    n_columns, n_timepoints = X.shape\n",
    "\n",
    "    output_length = (n_timepoints + (2 * padding)) - ((length - 1) * dilation)\n",
    "\n",
    "    _ppv = 0\n",
    "    _max = np.NINF\n",
    "\n",
    "    end = (n_timepoints + padding) - ((length - 1) * dilation)\n",
    "\n",
    "    for i in range(-padding, end):\n",
    "        _sum = bias\n",
    "\n",
    "        index = i\n",
    "\n",
    "        for j in range(length):\n",
    "            if index > -1 and index < n_timepoints:\n",
    "                for k in range(num_channel_indices):\n",
    "                    _sum = _sum + weights[k, j] * X[channel_indices[k], index]\n",
    "\n",
    "            index = index + dilation\n",
    "\n",
    "        if _sum > _max:\n",
    "            _max = _sum\n",
    "\n",
    "        if _sum > 0:\n",
    "            _ppv += 1\n",
    "\n",
    "    return np.float32(_ppv / output_length), np.float32(_max)"
   ]
  },
  {
   "cell_type": "code",
   "execution_count": 13,
   "metadata": {},
   "outputs": [],
   "source": [
    "def apply_kernels(X, kernels):\n",
    "    (\n",
    "        weights,\n",
    "        lengths,\n",
    "        biases,\n",
    "        dilations,\n",
    "        paddings,\n",
    "        num_channel_indices,\n",
    "        channel_indices,\n",
    "    ) = kernels\n",
    "\n",
    "    n_instances, n_columns, _ = X.shape\n",
    "    num_kernels = len(lengths)\n",
    "\n",
    "    _X = np.zeros(\n",
    "        (n_instances, num_kernels * 2), dtype=np.float32\n",
    "    )  # 2 features per kernel\n",
    "\n",
    "    for i in range(n_instances):\n",
    "        a1 = 0  # for weights\n",
    "        a2 = 0  # for channel_indices\n",
    "        a3 = 0  # for features\n",
    "\n",
    "        for j in range(num_kernels):\n",
    "            b1 = a1 + num_channel_indices[j] * lengths[j]\n",
    "            b2 = a2 + num_channel_indices[j]\n",
    "            b3 = a3 + 2\n",
    "\n",
    "            if num_channel_indices[j] == 1:\n",
    "                _X[i, a3:b3] = _apply_kernel_univariate(\n",
    "                    X[i, channel_indices[a2]],\n",
    "                    weights[a1:b1],\n",
    "                    lengths[j],\n",
    "                    biases[j],\n",
    "                    dilations[j],\n",
    "                    paddings[j],\n",
    "                )\n",
    "\n",
    "            else:\n",
    "                _weights = weights[a1:b1].reshape((num_channel_indices[j], lengths[j]))\n",
    "\n",
    "                _X[i, a3:b3] = _apply_kernel_multivariate(\n",
    "                    X[i],\n",
    "                    _weights,\n",
    "                    lengths[j],\n",
    "                    biases[j],\n",
    "                    dilations[j],\n",
    "                    paddings[j],\n",
    "                    num_channel_indices[j],\n",
    "                    channel_indices[a2:b2],\n",
    "                )\n",
    "\n",
    "            a1 = b1\n",
    "            a2 = b2\n",
    "            a3 = b3\n",
    "\n",
    "    return _X.astype(np.float32), _weights"
   ]
  },
  {
   "cell_type": "code",
   "execution_count": 14,
   "metadata": {},
   "outputs": [],
   "source": [
    "XX_, weights = apply_kernels(XX, trf.kernels)"
   ]
  },
  {
   "cell_type": "code",
   "execution_count": 16,
   "metadata": {},
   "outputs": [
    {
     "data": {
      "text/plain": [
       "(array([-0.8935588 , -1.6196154 ,  2.2677436 , ..., -1.3314456 ,\n",
       "        -0.13774604, -0.43073913], dtype=float32),\n",
       " array([ 9, 11, 11, ..., 11,  9,  9]),\n",
       " array([ 0.74477357, -0.48178563, -0.483774  , ...,  0.54491574,\n",
       "         0.43761113, -0.26604533], dtype=float32),\n",
       " array([4, 5, 2, ..., 1, 1, 1]),\n",
       " array([16, 25, 10, ...,  0,  4,  4]),\n",
       " array([4, 1, 1, ..., 1, 3, 1]),\n",
       " array([2, 0, 1, ..., 3, 0, 2]))"
      ]
     },
     "execution_count": 16,
     "metadata": {},
     "output_type": "execute_result"
    }
   ],
   "source": [
    "trf.kernels"
   ]
  },
  {
   "cell_type": "markdown",
   "metadata": {},
   "source": [
    "So the `weights` variable that is returned by my `apply_kernels` function above is the weights for the last kernel, which has length 7, a bias of -0.556, dilation 17 and padding 51. So what we're seeing when we plot `weights` is the weight given to each variable for the kernel element."
   ]
  },
  {
   "cell_type": "code",
   "execution_count": 17,
   "metadata": {},
   "outputs": [
    {
     "data": {
      "text/plain": [
       "<matplotlib.legend.Legend at 0x1a497c2a130>"
      ]
     },
     "execution_count": 17,
     "metadata": {},
     "output_type": "execute_result"
    },
    {
     "data": {
      "image/png": "[encoded data removed]",
      "text/plain": [
       "<Figure size 800x400 with 1 Axes>"
      ]
     },
     "metadata": {},
     "output_type": "display_data"
    }
   ],
   "source": [
    "fig, ax = plt.subplots(1, 1, figsize=(8, 4))\n",
    "lines = ax.plot(weights.T)\n",
    "\n",
    "vars = ['Gust', 'T anom', 'DP anom', 'Prs anom']\n",
    "for l, v in zip(lines, vars):\n",
    "    l.set_label(v)\n",
    "ax.legend()"
   ]
  }
 ],
 "metadata": {
  "kernelspec": {
   "display_name": "Python 3.9.16 ('sktime')",
   "language": "python",
   "name": "python3"
  },
  "language_info": {
   "codemirror_mode": {
    "name": "ipython",
    "version": 3
   },
   "file_extension": ".py",
   "mimetype": "text/x-python",
   "name": "python",
   "nbconvert_exporter": "python",
   "pygments_lexer": "ipython3",
   "version": "3.9.18"
  },
  "orig_nbformat": 4,
  "vscode": {
   "interpreter": {
    "hash": "6eacf74b18b37d56e760b681462e94465875e1f6e8e41eaf2cd6ab24d5297ceb"
   }
  }
 },
 "nbformat": 4,
 "nbformat_minor": 2
}
