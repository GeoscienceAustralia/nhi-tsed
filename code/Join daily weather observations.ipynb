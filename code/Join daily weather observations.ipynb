{
 "cells": [
  {
   "cell_type": "code",
   "execution_count": 1,
   "metadata": {},
   "outputs": [],
   "source": [
    "import os\n",
    "import sys\n",
    "import pandas as pd\n",
    "import geopandas as gpd\n",
    "from datetime import datetime, timedelta\n",
    "\n",
    "from stndata import DAILYSTNNAMES, DAILYDTYPE, DAILYNAMES\n",
    "from stndata import WXCODES\n",
    "\n",
    "TZ = {\n",
    "    \"QLD\": 10,\n",
    "    \"NSW\": 10,\n",
    "    \"VIC\": 10,\n",
    "    \"TAS\": 10,\n",
    "    \"SA\": 9.5,\n",
    "    \"NT\": 9.5,\n",
    "    \"WA\": 8,\n",
    "    \"ANT\": 0,\n",
    "}\n",
    "\n",
    "# List of columns to be used in the merge with the storm database:\n",
    "COLUMNS = ['datetimeUTC', 'datetimeLST', 'date', 'stnNum',\n",
    "           'PresentWxCode', 'PastWxCode',\n",
    "           'thunder', 'hail', 'duststorm']"
   ]
  },
  {
   "cell_type": "code",
   "execution_count": 2,
   "metadata": {},
   "outputs": [],
   "source": [
    "BASEPATH = os.path.dirname(os.getcwd())\n",
    "DATAPATH = os.path.join(BASEPATH, 'data')\n",
    "DAILYMAXPATH = os.path.join(DATAPATH, \"allevents\", \"dailymax\")\n",
    "GUSTRATIOPATH = os.path.join(DATAPATH, \"training\", \"gustratio\")\n",
    "OUTPUTPATH = os.path.join(DATAPATH, \"allevents\", \"results\")"
   ]
  },
  {
   "cell_type": "code",
   "execution_count": 3,
   "metadata": {},
   "outputs": [],
   "source": [
    "def findPresentWx(row):\n",
    "    \"\"\"\n",
    "    Find the present weather code (if reported) and return the weather description.\n",
    "\n",
    "        Usage:\n",
    "\n",
    "        df.apply(findPresentWx, axis=1)\n",
    "\n",
    "    :param row: Row of a DataFrame that includes a datetime and present weather \n",
    "    codes\n",
    "    :return: Weather description (if the code exists), or empty string\n",
    "    :rtype: string\n",
    "    \"\"\"\n",
    "    hour = row['datetimeLST'].hour\n",
    "    nearest_hour = min(range(0, 24, 3), key=lambda x: abs(x - hour))\n",
    "    nearest_presentWx_column = f'PresentWx{str(nearest_hour).zfill(2)}'\n",
    "    try:\n",
    "        code = int(row[nearest_presentWx_column])\n",
    "        return WXCODES[code]\n",
    "    except ValueError:\n",
    "        return row[nearest_presentWx_column]\n",
    "\n",
    "\n",
    "def findPastWx(row):\n",
    "    \"\"\"\n",
    "    Find the past weather code that corresponds to the time of the maximum\n",
    "    daily gust (if reported) and return the weather description\n",
    "\n",
    "    Usage:\n",
    "\n",
    "        df.apply(findPastWx, axis=1)\n",
    "\n",
    "    :param row: Row of a DataFrame\n",
    "    :return: Weather description (if the code exists) or empty string\n",
    "    :rtype: string\n",
    "    \"\"\"\n",
    "    hour = row['datetimeLST'].hour\n",
    "    pastWx_hours = [int(col[6:8]) for col in row.index if col.startswith('PastWx')]\n",
    "    # Find the next PastWx hour\n",
    "    next_hour = min(filter(lambda x: x > hour, pastWx_hours), default=min(pastWx_hours))\n",
    "    \n",
    "    next_pastWx_column = f'PastWx{str(next_hour).zfill(2)}'\n",
    "    try:\n",
    "        code = int(row[next_pastWx_column])\n",
    "        return WXCODES[code]\n",
    "    except ValueError:\n",
    "        return row[next_pastWx_column]"
   ]
  },
  {
   "cell_type": "code",
   "execution_count": 4,
   "metadata": {},
   "outputs": [],
   "source": [
    "def loadDailyData(filename: str, stnState: str) -> pd.DataFrame:\n",
    "    \"\"\"\n",
    "    Load a daily max wind gust file, determine the present and past weather code (if they are recorded) and return a `pd.DataFrame`\n",
    "\n",
    "    :param filename: _description_\n",
    "    :type filename: str\n",
    "    :param stnState: _description_\n",
    "    :type stnState: str\n",
    "    :return: _description_\n",
    "    :rtype: pd.DataFrame\n",
    "    \"\"\"\n",
    "    try:\n",
    "        df = pd.read_csv(filename,sep=\",\",\n",
    "                    index_col=False,\n",
    "                    names=DAILYNAMES,\n",
    "                    header=0,\n",
    "                    parse_dates={\"datetimeLST\": [2, 3, 4, 15]},\n",
    "                    keep_date_col=True,\n",
    "                    date_format=\"%Y %m %d %H%M\",\n",
    "                    na_values=[\"####\"],\n",
    "                skipinitialspace=True,)\n",
    "    except FileNotFoundError:\n",
    "        LOGGER.exception(f\"Cannot load {filename} - cannot find the file\")\n",
    "\n",
    "    # Remove any records where the time is not indicated:\n",
    "    df.dropna(axis=0, subset=['HHMM'], inplace=True)\n",
    "    \n",
    "    # Convert time data\n",
    "    df['datetimeLST'] = pd.to_datetime(df['datetimeLST'],\n",
    "                                       format=\"%Y %m %d %H%M\")\n",
    "    df[\"datetimeUTC\"] = df.datetimeLST - timedelta(hours=TZ[stnState])\n",
    "    df['datetimeUTC'] = df.datetimeUTC.dt.tz_localize(\"UTC\")\n",
    "    df[\"date\"] = df.datetimeUTC.dt.date\n",
    "\n",
    "    # Extract the weather codes:\n",
    "    df['PresentWeatherCode'] = df.apply(findPresentWx, axis=1)\n",
    "    df['PastWeatherCode'] = df.apply(findPastWx, axis=1)\n",
    "    return df"
   ]
  },
  {
   "cell_type": "code",
   "execution_count": 11,
   "metadata": {},
   "outputs": [
    {
     "name": "stderr",
     "output_type": "stream",
     "text": [
      "C:\\Users\\u12161\\AppData\\Local\\Temp\\ipykernel_24092\\3072478875.py:5: DtypeWarning: Columns (18,20,30,32) have mixed types. Specify dtype option on import or set low_memory=False.\n",
      "  dailyStnData = pd.read_csv(dailyStnFile,sep=\",\",\n"
     ]
    }
   ],
   "source": [
    "stnNum = 4032\n",
    "stnState = \"WA\"\n",
    "\n",
    "dailyStnFile = rf\"X:\\georisk\\HaRIA_B_Wind\\data\\raw\\from_bom\\2023\\daily\\DC02D_Data_{stnNum:06d}_9999999910405892.txt\"\n",
    "dailyStnData = pd.read_csv(dailyStnFile,sep=\",\",\n",
    "            index_col=False,\n",
    "            #dtype=DAILYDTYPE,\n",
    "            names=DAILYNAMES,\n",
    "            header=0,\n",
    "            parse_dates={\"datetimeLST\": [2, 3, 4, 15]},\n",
    "            keep_date_col=True,\n",
    "            date_format=\"%Y %m %d %H%M\",\n",
    "            na_values=[\"####\"],\n",
    "            skipinitialspace=True,)\n",
    "# Remove any records where the time is not indicated:\n",
    "dailyStnData.dropna(axis=0, subset=['HHMM'], inplace=True)\n",
    "dailyStnData['datetimeLST'] = pd.to_datetime(dailyStnData['datetimeLST'], format=\"%Y %m %d %H%M\")\n",
    "dailyStnData[\"datetimeUTC\"] = dailyStnData.datetimeLST - timedelta(hours=TZ[stnState])\n",
    "dailyStnData['datetimeUTC'] = dailyStnData.datetimeUTC.dt.tz_localize(\"UTC\")\n",
    "dailyStnData[\"date\"] = dailyStnData.datetimeUTC.dt.date\n",
    "\n",
    "dailyStnData['PresentWxCode'] = dailyStnData.apply(findPresentWx, axis=1)\n",
    "dailyStnData['PastWxCode'] = dailyStnData.apply(findPastWx, axis=1)"
   ]
  },
  {
   "cell_type": "code",
   "execution_count": 6,
   "metadata": {},
   "outputs": [],
   "source": [
    "dailyStnData = dailyStnData[COLUMNS]"
   ]
  },
  {
   "cell_type": "code",
   "execution_count": 7,
   "metadata": {},
   "outputs": [],
   "source": [
    "stormData = pd.read_csv(os.path.join(OUTPUTPATH, \"storm_classification_data.csv\"))"
   ]
  },
  {
   "cell_type": "code",
   "execution_count": 8,
   "metadata": {},
   "outputs": [],
   "source": [
    "stormData['datetimeUTC'] = pd.to_datetime(stormData.datetimeUTC)\n",
    "stormData['datetimeLST'] = pd.to_datetime(stormData.datetimeLST)"
   ]
  },
  {
   "cell_type": "code",
   "execution_count": 9,
   "metadata": {},
   "outputs": [
    {
     "data": {
      "text/plain": [
       "Index(['datetimeUTC', 'datetimeLST_x', 'stnNum', 'windgust', 'windspeed',\n",
       "       'winddir', 'temperature', 'dewpoint', 'rainfallPre', 'rainfallPost',\n",
       "       'tempPre', 'tempPost', 'meanSLP', 'stnPressure', 'gustRatio',\n",
       "       'emergence', 'stormType', 'category', 'datetimeLST_y', 'date',\n",
       "       'PresentWxCode', 'PastWxCode', 'thunder', 'hail', 'duststorm'],\n",
       "      dtype='object')"
      ]
     },
     "execution_count": 9,
     "metadata": {},
     "output_type": "execute_result"
    }
   ],
   "source": [
    "stormData.merge(dailyStnData, how='left', on=['datetimeUTC', 'stnNum']).columns"
   ]
  },
  {
   "cell_type": "code",
   "execution_count": 12,
   "metadata": {},
   "outputs": [
    {
     "data": {
      "text/plain": [
       "Index(['datetimeLST', 'id', 'stnNum', 'YYYY', 'MM', 'DD', 'tmax', 'tmaxq',\n",
       "       'tmaxdays', 'tmin', 'tminq', 'tmindays', 'windgust', 'windgustq',\n",
       "       'winddir', 'winddirq', 'HHMM', 'timeq', 'PresentWx00', 'PresentWx00Q',\n",
       "       'PresentWx03', 'PresentWx03Q', 'PresentWx06', 'PresentWx06Q',\n",
       "       'PresentWx09', 'PresentWx09Q', 'PresentWx12', 'PresentWx12Q',\n",
       "       'PresentWx15', 'PresentWx15Q', 'PresentWx18', 'PresentWx18Q',\n",
       "       'PresentWx21', 'PresentWx21Q', 'PastWx00', 'PastWx00Q', 'PastWx03',\n",
       "       'PastWx03Q', 'PastWx06', 'PastWx06Q', 'PastWx09', 'PastWx09Q',\n",
       "       'PastWx12', 'PastWx12Q', 'PastWx15', 'PastWx15Q', 'PastWx18',\n",
       "       'PastWx18Q', 'PastWx21', 'PastWx21Q', 'duststorm', 'duststormq', 'snow',\n",
       "       'snowq', 'haze', 'hazeq', 'hail', 'hailq', 'fog', 'fogq', 'thunder',\n",
       "       'thunderq', 'frost', 'frostq', 'end', 'datetimeUTC', 'date',\n",
       "       'PresentWxCode', 'PastWxCode'],\n",
       "      dtype='object')"
      ]
     },
     "execution_count": 12,
     "metadata": {},
     "output_type": "execute_result"
    }
   ],
   "source": [
    "dailyStnData.columns"
   ]
  }
 ],
 "metadata": {
  "kernelspec": {
   "display_name": "Python 3.9.18 ('tsed')",
   "language": "python",
   "name": "python3"
  },
  "language_info": {
   "codemirror_mode": {
    "name": "ipython",
    "version": 3
   },
   "file_extension": ".py",
   "mimetype": "text/x-python",
   "name": "python",
   "nbconvert_exporter": "python",
   "pygments_lexer": "ipython3",
   "version": "3.9.18"
  },
  "orig_nbformat": 4,
  "vscode": {
   "interpreter": {
    "hash": "78a1d9be3497c69e2d8fd50b57d01abd8947d8f616c51a09b2894fb7e0d0a910"
   }
  }
 },
 "nbformat": 4,
 "nbformat_minor": 2
}
