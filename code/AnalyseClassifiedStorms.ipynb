{
 "cells": [
  {
   "cell_type": "code",
   "execution_count": 3,
   "id": "127adedc",
   "metadata": {},
   "outputs": [],
   "source": [
    "%matplotlib inline\n",
    "\n",
    "from os.path import join as pjoin\n",
    "import pandas as pd\n",
    "import numpy as np\n",
    "import seaborn as sns\n",
    "import matplotlib.pyplot as plt\n",
    "from matplotlib import patheffects\n",
    "pe = patheffects.withStroke(foreground=\"white\", linewidth=5)\n"
   ]
  },
  {
   "cell_type": "code",
   "execution_count": 9,
   "id": "c8e03bd0",
   "metadata": {},
   "outputs": [],
   "source": [
    "BASEDIR = r\"..\\data\\training\"\n",
    "DATADIR = r\"..\\data\\allevents\"\n",
    "eventFile = pjoin(BASEDIR, \"visual_storm_types.csv\")\n",
    "#eventFile = pjoin(BASEDIR, \"NA_all.csv\")\n",
    "#stormdf = pd.read_csv(eventFile, usecols=[2, 3, 4], parse_dates=['date'],\n",
    "#                dtype={'stnNum': float,\n",
    "#                       'stormType': 'category'},\n",
    "#                converters={'stnNum': lambda s: int(float(s.strip() or 0))})\n",
    "\n",
    "stormdf = pd.read_csv(eventFile, usecols=[1, 2, 3],\n",
    "                      parse_dates=['date'],\n",
    "                      dtype={'stnNum': int,\n",
    "                             'stormType': 'category'},)"
   ]
  },
  {
   "cell_type": "code",
   "execution_count": 10,
   "id": "c63ed960",
   "metadata": {},
   "outputs": [
    {
     "data": {
      "text/plain": [
       "<AxesSubplot:>"
      ]
     },
     "execution_count": 10,
     "metadata": {},
     "output_type": "execute_result"
    },
    {
     "data": {
      "image/png": "[encoded data removed]",
      "text/plain": [
       "<Figure size 432x288 with 1 Axes>"
      ]
     },
     "metadata": {
      "needs_background": "light"
     },
     "output_type": "display_data"
    }
   ],
   "source": [
    "stormdf.stormType.value_counts().plot(kind='bar')"
   ]
  },
  {
   "cell_type": "code",
   "execution_count": 15,
   "id": "4a545d80",
   "metadata": {},
   "outputs": [],
   "source": [
    "def loadData(stnNum):\n",
    "    fname = pjoin(DATADIR, \"events\", f\"{stnNum:06d}.pkl\")\n",
    "    df = pd.read_pickle(fname)\n",
    "    df['date'] = pd.to_datetime(df['date'])\n",
    "    df['stnNum'] = stnNum\n",
    "    df.reset_index(inplace=True)\n",
    "    df.set_index(['stnNum', 'date'], inplace=True)\n",
    "    return df"
   ]
  },
  {
   "cell_type": "code",
   "execution_count": 16,
   "id": "c7f63084",
   "metadata": {},
   "outputs": [],
   "source": [
    "stndf = pd.read_csv(pjoin(r\"..\\data\", 'hqstations.csv'), index_col=\"stnNum\")"
   ]
  },
  {
   "cell_type": "markdown",
   "id": "da543ed0",
   "metadata": {},
   "source": [
    "Load all the observed data, for all HQ stations and concatenate into a single dataframe. We then create a new attribute (called `idx`) that is a tuple of the MultiIndex of the dataframe (based on station and date)"
   ]
  },
  {
   "cell_type": "code",
   "execution_count": 17,
   "id": "8af7a440",
   "metadata": {},
   "outputs": [
    {
     "name": "stdout",
     "output_type": "stream",
     "text": [
      "..\\data\\allevents\\events\\003003.pkl\n"
     ]
    },
    {
     "ename": "AttributeError",
     "evalue": "Can't get attribute '_unpickle_block' on <module 'pandas._libs.internals' from 'c:\\\\W10DEV\\\\Anaconda3\\\\lib\\\\site-packages\\\\pandas\\\\_libs\\\\internals.cp39-win_amd64.pyd'>",
     "output_type": "error",
     "traceback": [
      "\u001b[1;31m---------------------------------------------------------------------------\u001b[0m",
      "\u001b[1;31mAttributeError\u001b[0m                            Traceback (most recent call last)",
      "\u001b[1;32m~\\AppData\\Local\\Temp/ipykernel_14648/1727291923.py\u001b[0m in \u001b[0;36m<module>\u001b[1;34m\u001b[0m\n\u001b[0;32m      1\u001b[0m \u001b[0mdflist\u001b[0m \u001b[1;33m=\u001b[0m \u001b[1;33m[\u001b[0m\u001b[1;33m]\u001b[0m\u001b[1;33m\u001b[0m\u001b[1;33m\u001b[0m\u001b[0m\n\u001b[0;32m      2\u001b[0m \u001b[1;32mfor\u001b[0m \u001b[0mstn\u001b[0m \u001b[1;32min\u001b[0m \u001b[0mstndf\u001b[0m\u001b[1;33m.\u001b[0m\u001b[0mindex\u001b[0m\u001b[1;33m:\u001b[0m\u001b[1;33m\u001b[0m\u001b[1;33m\u001b[0m\u001b[0m\n\u001b[1;32m----> 3\u001b[1;33m     \u001b[0mdf\u001b[0m \u001b[1;33m=\u001b[0m \u001b[0mloadData\u001b[0m\u001b[1;33m(\u001b[0m\u001b[0mstn\u001b[0m\u001b[1;33m)\u001b[0m\u001b[1;33m\u001b[0m\u001b[1;33m\u001b[0m\u001b[0m\n\u001b[0m\u001b[0;32m      4\u001b[0m     \u001b[0mdflist\u001b[0m\u001b[1;33m.\u001b[0m\u001b[0mappend\u001b[0m\u001b[1;33m(\u001b[0m\u001b[0mdf\u001b[0m\u001b[1;33m)\u001b[0m\u001b[1;33m\u001b[0m\u001b[1;33m\u001b[0m\u001b[0m\n\u001b[0;32m      5\u001b[0m \u001b[1;33m\u001b[0m\u001b[0m\n",
      "\u001b[1;32m~\\AppData\\Local\\Temp/ipykernel_14648/484528690.py\u001b[0m in \u001b[0;36mloadData\u001b[1;34m(stnNum)\u001b[0m\n\u001b[0;32m      2\u001b[0m     \u001b[0mfname\u001b[0m \u001b[1;33m=\u001b[0m \u001b[0mpjoin\u001b[0m\u001b[1;33m(\u001b[0m\u001b[0mDATADIR\u001b[0m\u001b[1;33m,\u001b[0m \u001b[1;34m\"events\"\u001b[0m\u001b[1;33m,\u001b[0m \u001b[1;34mf\"{stnNum:06d}.pkl\"\u001b[0m\u001b[1;33m)\u001b[0m\u001b[1;33m\u001b[0m\u001b[1;33m\u001b[0m\u001b[0m\n\u001b[0;32m      3\u001b[0m     \u001b[0mprint\u001b[0m\u001b[1;33m(\u001b[0m\u001b[0mfname\u001b[0m\u001b[1;33m)\u001b[0m\u001b[1;33m\u001b[0m\u001b[1;33m\u001b[0m\u001b[0m\n\u001b[1;32m----> 4\u001b[1;33m     \u001b[0mdf\u001b[0m \u001b[1;33m=\u001b[0m \u001b[0mpd\u001b[0m\u001b[1;33m.\u001b[0m\u001b[0mread_pickle\u001b[0m\u001b[1;33m(\u001b[0m\u001b[0mfname\u001b[0m\u001b[1;33m)\u001b[0m\u001b[1;33m\u001b[0m\u001b[1;33m\u001b[0m\u001b[0m\n\u001b[0m\u001b[0;32m      5\u001b[0m     \u001b[0mdf\u001b[0m\u001b[1;33m[\u001b[0m\u001b[1;34m'date'\u001b[0m\u001b[1;33m]\u001b[0m \u001b[1;33m=\u001b[0m \u001b[0mpd\u001b[0m\u001b[1;33m.\u001b[0m\u001b[0mto_datetime\u001b[0m\u001b[1;33m(\u001b[0m\u001b[0mdf\u001b[0m\u001b[1;33m[\u001b[0m\u001b[1;34m'date'\u001b[0m\u001b[1;33m]\u001b[0m\u001b[1;33m)\u001b[0m\u001b[1;33m\u001b[0m\u001b[1;33m\u001b[0m\u001b[0m\n\u001b[0;32m      6\u001b[0m     \u001b[0mdf\u001b[0m\u001b[1;33m[\u001b[0m\u001b[1;34m'stnNum'\u001b[0m\u001b[1;33m]\u001b[0m \u001b[1;33m=\u001b[0m \u001b[0mstnNum\u001b[0m\u001b[1;33m\u001b[0m\u001b[1;33m\u001b[0m\u001b[0m\n",
      "\u001b[1;32mc:\\W10DEV\\Anaconda3\\lib\\site-packages\\pandas\\io\\pickle.py\u001b[0m in \u001b[0;36mread_pickle\u001b[1;34m(filepath_or_buffer, compression, storage_options)\u001b[0m\n\u001b[0;32m    220\u001b[0m                 \u001b[1;31m#  \"No module named 'pandas.core.sparse.series'\"\u001b[0m\u001b[1;33m\u001b[0m\u001b[1;33m\u001b[0m\u001b[0m\n\u001b[0;32m    221\u001b[0m                 \u001b[1;31m#  \"Can't get attribute '__nat_unpickle' on <module 'pandas._libs.tslib\"\u001b[0m\u001b[1;33m\u001b[0m\u001b[1;33m\u001b[0m\u001b[0m\n\u001b[1;32m--> 222\u001b[1;33m                 \u001b[1;32mreturn\u001b[0m \u001b[0mpc\u001b[0m\u001b[1;33m.\u001b[0m\u001b[0mload\u001b[0m\u001b[1;33m(\u001b[0m\u001b[0mhandles\u001b[0m\u001b[1;33m.\u001b[0m\u001b[0mhandle\u001b[0m\u001b[1;33m,\u001b[0m \u001b[0mencoding\u001b[0m\u001b[1;33m=\u001b[0m\u001b[1;32mNone\u001b[0m\u001b[1;33m)\u001b[0m\u001b[1;33m\u001b[0m\u001b[1;33m\u001b[0m\u001b[0m\n\u001b[0m\u001b[0;32m    223\u001b[0m         \u001b[1;32mexcept\u001b[0m \u001b[0mUnicodeDecodeError\u001b[0m\u001b[1;33m:\u001b[0m\u001b[1;33m\u001b[0m\u001b[1;33m\u001b[0m\u001b[0m\n\u001b[0;32m    224\u001b[0m             \u001b[1;31m# e.g. can occur for files written in py27; see GH#28645 and GH#31988\u001b[0m\u001b[1;33m\u001b[0m\u001b[1;33m\u001b[0m\u001b[0m\n",
      "\u001b[1;32mc:\\W10DEV\\Anaconda3\\lib\\site-packages\\pandas\\compat\\pickle_compat.py\u001b[0m in \u001b[0;36mload\u001b[1;34m(fh, encoding, is_verbose)\u001b[0m\n\u001b[0;32m    272\u001b[0m         \u001b[0mup\u001b[0m\u001b[1;33m.\u001b[0m\u001b[0mis_verbose\u001b[0m \u001b[1;33m=\u001b[0m \u001b[0mis_verbose\u001b[0m\u001b[1;33m\u001b[0m\u001b[1;33m\u001b[0m\u001b[0m\n\u001b[0;32m    273\u001b[0m \u001b[1;33m\u001b[0m\u001b[0m\n\u001b[1;32m--> 274\u001b[1;33m         \u001b[1;32mreturn\u001b[0m \u001b[0mup\u001b[0m\u001b[1;33m.\u001b[0m\u001b[0mload\u001b[0m\u001b[1;33m(\u001b[0m\u001b[1;33m)\u001b[0m\u001b[1;33m\u001b[0m\u001b[1;33m\u001b[0m\u001b[0m\n\u001b[0m\u001b[0;32m    275\u001b[0m     \u001b[1;32mexcept\u001b[0m \u001b[1;33m(\u001b[0m\u001b[0mValueError\u001b[0m\u001b[1;33m,\u001b[0m \u001b[0mTypeError\u001b[0m\u001b[1;33m)\u001b[0m\u001b[1;33m:\u001b[0m\u001b[1;33m\u001b[0m\u001b[1;33m\u001b[0m\u001b[0m\n\u001b[0;32m    276\u001b[0m         \u001b[1;32mraise\u001b[0m\u001b[1;33m\u001b[0m\u001b[1;33m\u001b[0m\u001b[0m\n",
      "\u001b[1;32mc:\\W10DEV\\Anaconda3\\lib\\pickle.py\u001b[0m in \u001b[0;36mload\u001b[1;34m(self)\u001b[0m\n\u001b[0;32m   1210\u001b[0m                     \u001b[1;32mraise\u001b[0m \u001b[0mEOFError\u001b[0m\u001b[1;33m\u001b[0m\u001b[1;33m\u001b[0m\u001b[0m\n\u001b[0;32m   1211\u001b[0m                 \u001b[1;32massert\u001b[0m \u001b[0misinstance\u001b[0m\u001b[1;33m(\u001b[0m\u001b[0mkey\u001b[0m\u001b[1;33m,\u001b[0m \u001b[0mbytes_types\u001b[0m\u001b[1;33m)\u001b[0m\u001b[1;33m\u001b[0m\u001b[1;33m\u001b[0m\u001b[0m\n\u001b[1;32m-> 1212\u001b[1;33m                 \u001b[0mdispatch\u001b[0m\u001b[1;33m[\u001b[0m\u001b[0mkey\u001b[0m\u001b[1;33m[\u001b[0m\u001b[1;36m0\u001b[0m\u001b[1;33m]\u001b[0m\u001b[1;33m]\u001b[0m\u001b[1;33m(\u001b[0m\u001b[0mself\u001b[0m\u001b[1;33m)\u001b[0m\u001b[1;33m\u001b[0m\u001b[1;33m\u001b[0m\u001b[0m\n\u001b[0m\u001b[0;32m   1213\u001b[0m         \u001b[1;32mexcept\u001b[0m \u001b[0m_Stop\u001b[0m \u001b[1;32mas\u001b[0m \u001b[0mstopinst\u001b[0m\u001b[1;33m:\u001b[0m\u001b[1;33m\u001b[0m\u001b[1;33m\u001b[0m\u001b[0m\n\u001b[0;32m   1214\u001b[0m             \u001b[1;32mreturn\u001b[0m \u001b[0mstopinst\u001b[0m\u001b[1;33m.\u001b[0m\u001b[0mvalue\u001b[0m\u001b[1;33m\u001b[0m\u001b[1;33m\u001b[0m\u001b[0m\n",
      "\u001b[1;32mc:\\W10DEV\\Anaconda3\\lib\\pickle.py\u001b[0m in \u001b[0;36mload_stack_global\u001b[1;34m(self)\u001b[0m\n\u001b[0;32m   1535\u001b[0m         \u001b[1;32mif\u001b[0m \u001b[0mtype\u001b[0m\u001b[1;33m(\u001b[0m\u001b[0mname\u001b[0m\u001b[1;33m)\u001b[0m \u001b[1;32mis\u001b[0m \u001b[1;32mnot\u001b[0m \u001b[0mstr\u001b[0m \u001b[1;32mor\u001b[0m \u001b[0mtype\u001b[0m\u001b[1;33m(\u001b[0m\u001b[0mmodule\u001b[0m\u001b[1;33m)\u001b[0m \u001b[1;32mis\u001b[0m \u001b[1;32mnot\u001b[0m \u001b[0mstr\u001b[0m\u001b[1;33m:\u001b[0m\u001b[1;33m\u001b[0m\u001b[1;33m\u001b[0m\u001b[0m\n\u001b[0;32m   1536\u001b[0m             \u001b[1;32mraise\u001b[0m \u001b[0mUnpicklingError\u001b[0m\u001b[1;33m(\u001b[0m\u001b[1;34m\"STACK_GLOBAL requires str\"\u001b[0m\u001b[1;33m)\u001b[0m\u001b[1;33m\u001b[0m\u001b[1;33m\u001b[0m\u001b[0m\n\u001b[1;32m-> 1537\u001b[1;33m         \u001b[0mself\u001b[0m\u001b[1;33m.\u001b[0m\u001b[0mappend\u001b[0m\u001b[1;33m(\u001b[0m\u001b[0mself\u001b[0m\u001b[1;33m.\u001b[0m\u001b[0mfind_class\u001b[0m\u001b[1;33m(\u001b[0m\u001b[0mmodule\u001b[0m\u001b[1;33m,\u001b[0m \u001b[0mname\u001b[0m\u001b[1;33m)\u001b[0m\u001b[1;33m)\u001b[0m\u001b[1;33m\u001b[0m\u001b[1;33m\u001b[0m\u001b[0m\n\u001b[0m\u001b[0;32m   1538\u001b[0m     \u001b[0mdispatch\u001b[0m\u001b[1;33m[\u001b[0m\u001b[0mSTACK_GLOBAL\u001b[0m\u001b[1;33m[\u001b[0m\u001b[1;36m0\u001b[0m\u001b[1;33m]\u001b[0m\u001b[1;33m]\u001b[0m \u001b[1;33m=\u001b[0m \u001b[0mload_stack_global\u001b[0m\u001b[1;33m\u001b[0m\u001b[1;33m\u001b[0m\u001b[0m\n\u001b[0;32m   1539\u001b[0m \u001b[1;33m\u001b[0m\u001b[0m\n",
      "\u001b[1;32mc:\\W10DEV\\Anaconda3\\lib\\site-packages\\pandas\\compat\\pickle_compat.py\u001b[0m in \u001b[0;36mfind_class\u001b[1;34m(self, module, name)\u001b[0m\n\u001b[0;32m    204\u001b[0m         \u001b[0mkey\u001b[0m \u001b[1;33m=\u001b[0m \u001b[1;33m(\u001b[0m\u001b[0mmodule\u001b[0m\u001b[1;33m,\u001b[0m \u001b[0mname\u001b[0m\u001b[1;33m)\u001b[0m\u001b[1;33m\u001b[0m\u001b[1;33m\u001b[0m\u001b[0m\n\u001b[0;32m    205\u001b[0m         \u001b[0mmodule\u001b[0m\u001b[1;33m,\u001b[0m \u001b[0mname\u001b[0m \u001b[1;33m=\u001b[0m \u001b[0m_class_locations_map\u001b[0m\u001b[1;33m.\u001b[0m\u001b[0mget\u001b[0m\u001b[1;33m(\u001b[0m\u001b[0mkey\u001b[0m\u001b[1;33m,\u001b[0m \u001b[0mkey\u001b[0m\u001b[1;33m)\u001b[0m\u001b[1;33m\u001b[0m\u001b[1;33m\u001b[0m\u001b[0m\n\u001b[1;32m--> 206\u001b[1;33m         \u001b[1;32mreturn\u001b[0m \u001b[0msuper\u001b[0m\u001b[1;33m(\u001b[0m\u001b[1;33m)\u001b[0m\u001b[1;33m.\u001b[0m\u001b[0mfind_class\u001b[0m\u001b[1;33m(\u001b[0m\u001b[0mmodule\u001b[0m\u001b[1;33m,\u001b[0m \u001b[0mname\u001b[0m\u001b[1;33m)\u001b[0m\u001b[1;33m\u001b[0m\u001b[1;33m\u001b[0m\u001b[0m\n\u001b[0m\u001b[0;32m    207\u001b[0m \u001b[1;33m\u001b[0m\u001b[0m\n\u001b[0;32m    208\u001b[0m \u001b[1;33m\u001b[0m\u001b[0m\n",
      "\u001b[1;32mc:\\W10DEV\\Anaconda3\\lib\\pickle.py\u001b[0m in \u001b[0;36mfind_class\u001b[1;34m(self, module, name)\u001b[0m\n\u001b[0;32m   1579\u001b[0m         \u001b[0m__import__\u001b[0m\u001b[1;33m(\u001b[0m\u001b[0mmodule\u001b[0m\u001b[1;33m,\u001b[0m \u001b[0mlevel\u001b[0m\u001b[1;33m=\u001b[0m\u001b[1;36m0\u001b[0m\u001b[1;33m)\u001b[0m\u001b[1;33m\u001b[0m\u001b[1;33m\u001b[0m\u001b[0m\n\u001b[0;32m   1580\u001b[0m         \u001b[1;32mif\u001b[0m \u001b[0mself\u001b[0m\u001b[1;33m.\u001b[0m\u001b[0mproto\u001b[0m \u001b[1;33m>=\u001b[0m \u001b[1;36m4\u001b[0m\u001b[1;33m:\u001b[0m\u001b[1;33m\u001b[0m\u001b[1;33m\u001b[0m\u001b[0m\n\u001b[1;32m-> 1581\u001b[1;33m             \u001b[1;32mreturn\u001b[0m \u001b[0m_getattribute\u001b[0m\u001b[1;33m(\u001b[0m\u001b[0msys\u001b[0m\u001b[1;33m.\u001b[0m\u001b[0mmodules\u001b[0m\u001b[1;33m[\u001b[0m\u001b[0mmodule\u001b[0m\u001b[1;33m]\u001b[0m\u001b[1;33m,\u001b[0m \u001b[0mname\u001b[0m\u001b[1;33m)\u001b[0m\u001b[1;33m[\u001b[0m\u001b[1;36m0\u001b[0m\u001b[1;33m]\u001b[0m\u001b[1;33m\u001b[0m\u001b[1;33m\u001b[0m\u001b[0m\n\u001b[0m\u001b[0;32m   1582\u001b[0m         \u001b[1;32melse\u001b[0m\u001b[1;33m:\u001b[0m\u001b[1;33m\u001b[0m\u001b[1;33m\u001b[0m\u001b[0m\n\u001b[0;32m   1583\u001b[0m             \u001b[1;32mreturn\u001b[0m \u001b[0mgetattr\u001b[0m\u001b[1;33m(\u001b[0m\u001b[0msys\u001b[0m\u001b[1;33m.\u001b[0m\u001b[0mmodules\u001b[0m\u001b[1;33m[\u001b[0m\u001b[0mmodule\u001b[0m\u001b[1;33m]\u001b[0m\u001b[1;33m,\u001b[0m \u001b[0mname\u001b[0m\u001b[1;33m)\u001b[0m\u001b[1;33m\u001b[0m\u001b[1;33m\u001b[0m\u001b[0m\n",
      "\u001b[1;32mc:\\W10DEV\\Anaconda3\\lib\\pickle.py\u001b[0m in \u001b[0;36m_getattribute\u001b[1;34m(obj, name)\u001b[0m\n\u001b[0;32m    329\u001b[0m             \u001b[0mobj\u001b[0m \u001b[1;33m=\u001b[0m \u001b[0mgetattr\u001b[0m\u001b[1;33m(\u001b[0m\u001b[0mobj\u001b[0m\u001b[1;33m,\u001b[0m \u001b[0msubpath\u001b[0m\u001b[1;33m)\u001b[0m\u001b[1;33m\u001b[0m\u001b[1;33m\u001b[0m\u001b[0m\n\u001b[0;32m    330\u001b[0m         \u001b[1;32mexcept\u001b[0m \u001b[0mAttributeError\u001b[0m\u001b[1;33m:\u001b[0m\u001b[1;33m\u001b[0m\u001b[1;33m\u001b[0m\u001b[0m\n\u001b[1;32m--> 331\u001b[1;33m             raise AttributeError(\"Can't get attribute {!r} on {!r}\"\n\u001b[0m\u001b[0;32m    332\u001b[0m                                  .format(name, obj)) from None\n\u001b[0;32m    333\u001b[0m     \u001b[1;32mreturn\u001b[0m \u001b[0mobj\u001b[0m\u001b[1;33m,\u001b[0m \u001b[0mparent\u001b[0m\u001b[1;33m\u001b[0m\u001b[1;33m\u001b[0m\u001b[0m\n",
      "\u001b[1;31mAttributeError\u001b[0m: Can't get attribute '_unpickle_block' on <module 'pandas._libs.internals' from 'c:\\\\W10DEV\\\\Anaconda3\\\\lib\\\\site-packages\\\\pandas\\\\_libs\\\\internals.cp39-win_amd64.pyd'>"
     ]
    }
   ],
   "source": [
    "dflist = []\n",
    "for stn in stndf.index:\n",
    "    df = loadData(stn)\n",
    "    dflist.append(df)\n",
    "\n",
    "alldf = pd.concat(dflist)\n",
    "alldf['idx'] = alldf.index"
   ]
  },
  {
   "cell_type": "markdown",
   "id": "e302cc79",
   "metadata": {},
   "source": [
    "We create a similar attribute in the list of storm types..."
   ]
  },
  {
   "cell_type": "code",
   "execution_count": null,
   "id": "64121df6",
   "metadata": {},
   "outputs": [],
   "source": [
    "stormdf['idx'] = stormdf[['stnNum', 'date']].apply(tuple, axis=1)\n",
    "\n",
    "synidx = stormdf[stormdf['stormType']==\"Synoptic storm\"]['idx']\n",
    "syfidx = stormdf[stormdf['stormType']==\"Synoptic front\"]['idx']\n",
    "sbidx = stormdf[stormdf['stormType']==\"Storm-burst\"]['idx']\n",
    "\n",
    "tsidx = stormdf[stormdf['stormType']==\"Thunderstorm\"]['idx']\n",
    "fuidx = stormdf[stormdf['stormType']==\"Front up\"]['idx']\n",
    "fdidx = stormdf[stormdf['stormType']==\"Front down\"]['idx']\n",
    "\n",
    "ucidx = stormdf[stormdf['stormType']==\"Unclassified\"]['idx']\n",
    "spidx = stormdf[stormdf['stormType']==\"Spike\"]['idx']\n"
   ]
  },
  {
   "cell_type": "markdown",
   "id": "688515b1",
   "metadata": {},
   "source": [
    "Then we can select the time series of each event that is classified as the selected storm type. We then group by the time difference (i.e. the time before/after the peak gust) and take the mean of all the values. "
   ]
  },
  {
   "cell_type": "code",
   "execution_count": null,
   "id": "a0d7f6a9",
   "metadata": {},
   "outputs": [],
   "source": [
    "synevents = alldf[alldf.idx.isin(synidx.values)]\n",
    "syfevents = alldf[alldf.idx.isin(syfidx.values)]\n",
    "sbevents = alldf[alldf.idx.isin(sbidx.values)]\n",
    "\n",
    "\n",
    "tsevents = alldf[alldf.idx.isin(tsidx.values)]\n",
    "fuevents = alldf[alldf.idx.isin(fuidx.values)]\n",
    "fdevents = alldf[alldf.idx.isin(fdidx.values)]\n",
    "\n",
    "ucevents = alldf[alldf.idx.isin(ucidx.values)]\n",
    "spevents = alldf[alldf.idx.isin(spidx.values)]\n",
    "\n",
    "meansyn = synevents.reset_index().groupby('tdiff').mean().reset_index()\n",
    "meansyf = syfevents.reset_index().groupby('tdiff').mean().reset_index()\n",
    "meansb = sbevents.reset_index().groupby('tdiff').mean().reset_index()\n",
    "\n",
    "meants = tsevents.reset_index().groupby('tdiff').mean().reset_index()\n",
    "meanfu = fuevents.reset_index().groupby('tdiff').mean().reset_index()\n",
    "meanfd = fdevents.reset_index().groupby('tdiff').mean().reset_index()\n",
    "\n",
    "meanuc = ucevents.reset_index().groupby('tdiff').mean().reset_index()\n",
    "meansp = spevents.reset_index().groupby('tdiff').mean().reset_index()"
   ]
  },
  {
   "cell_type": "code",
   "execution_count": null,
   "id": "63016b55",
   "metadata": {},
   "outputs": [],
   "source": [
    "def plotEvent(df):\n",
    "    fig, ax = plt.subplots(figsize=(12,8))\n",
    "    #ax = fig.add_axes([0, 0, 1, 1])\n",
    "    #ax2 = ax.twinx()\n",
    "    axt = ax.twinx()\n",
    "    axp = ax.twinx()\n",
    "    ax.set_zorder(1)\n",
    "    ax.patch.set_visible(False)\n",
    "    axt.plot(df.tdiff, df.tempanom, label=r\"Temperature/dewpoint anomaly [$^o$C]\",\n",
    "             color='r', marker='^', markerfacecolor=\"None\", lw=2, path_effects=[pe], zorder=1,\n",
    "             markevery=5)\n",
    "    axt.plot(df.tdiff, df.dpanom, color='orangered', marker='.', markerfacecolor=\"None\",\n",
    "             lw=1, path_effects=[pe], zorder=1, markevery=5)\n",
    "    \n",
    "    ax.plot(df.tdiff, df.windgust, label=\"Wind gust ['km/h']\", \n",
    "            lw=3, path_effects=[pe], markerfacecolor=\"None\",zorder=100)\n",
    "    axp.plot(df.tdiff, df.stnpanom, color='purple', lw=2, path_effects=[pe],\n",
    "             ls='--', label='Station pressure anomaly [hPa]')\n",
    "\n",
    "\n",
    "    #axt.spines['right'].set_position((\"axes\", 1.075))\n",
    "    axt.spines[['right']].set_color('r')\n",
    "    axt.yaxis.label.set_color('r')\n",
    "    axt.tick_params(axis='y', colors='r')\n",
    "    axt.set_ylabel(r\"Temperature/dewpoint anomaly [$^o$C]\")\n",
    "\n",
    "    ax.set_ylabel(\"Gust wind speed [km/h]\")\n",
    "\n",
    "    axp.spines[['right']].set_position(('axes', 1.075))\n",
    "    axp.spines[['right']].set_color('purple')\n",
    "    axp.yaxis.label.set_color('purple')\n",
    "    axp.tick_params(axis='y', colors='purple')\n",
    "    axp.set_ylabel(\"Pressure anomaly [hPa]\")\n",
    "\n",
    "    gmin, gmax = ax.get_ylim()\n",
    "    pmin, pmax = axp.get_ylim()\n",
    "    tmin, tmax = axt.get_ylim()\n",
    "    ax.set_ylim((0, max(gmax, 100)))\n",
    "    axp.set_ylim((min(-2.0, pmin), max(pmax, 2.0)))\n",
    "    axt.set_ylim((min(-2.0, tmin), max(tmax, 2.0)))\n",
    "    #ax2.set_ylim((0, 360))\n",
    "    #ax2.set_yticks(np.arange(0, 361, 90))\n",
    "    #axr.set_ylim((0, 100))\n",
    "    #ax.set_title(meants.index[0])\n",
    "    ax.grid(True)\n",
    "    #ax2.grid(False)\n",
    "    axt.grid(False)\n",
    "    axp.grid(False)\n",
    "    #axr.grid(False)"
   ]
  },
  {
   "cell_type": "code",
   "execution_count": null,
   "id": "f988f2c2",
   "metadata": {},
   "outputs": [],
   "source": [
    "plotEvent(meants)"
   ]
  },
  {
   "cell_type": "code",
   "execution_count": null,
   "id": "64d299c3",
   "metadata": {},
   "outputs": [],
   "source": [
    "plotEvent(meanfu)"
   ]
  },
  {
   "cell_type": "code",
   "execution_count": null,
   "id": "f5ea9c37",
   "metadata": {},
   "outputs": [],
   "source": [
    "plotEvent(meanfd)"
   ]
  },
  {
   "cell_type": "code",
   "execution_count": null,
   "id": "5ea6cd18",
   "metadata": {},
   "outputs": [],
   "source": [
    "plotEvent(meansyn)"
   ]
  },
  {
   "cell_type": "code",
   "execution_count": null,
   "id": "a760eebb",
   "metadata": {},
   "outputs": [],
   "source": [
    "plotEvent(meansyf)"
   ]
  },
  {
   "cell_type": "code",
   "execution_count": null,
   "id": "db2a488c",
   "metadata": {},
   "outputs": [],
   "source": [
    "plotEvent(meansb)"
   ]
  },
  {
   "cell_type": "code",
   "execution_count": null,
   "id": "5eb1de73",
   "metadata": {},
   "outputs": [],
   "source": [
    "plotEvent(meansp)"
   ]
  },
  {
   "cell_type": "code",
   "execution_count": null,
   "id": "f7c670f4",
   "metadata": {},
   "outputs": [],
   "source": [
    "plotEvent(meanuc)"
   ]
  },
  {
   "cell_type": "code",
   "execution_count": null,
   "id": "2a70c9fc",
   "metadata": {},
   "outputs": [],
   "source": [
    "def loadGustRatioData(stnNum):\n",
    "    fname = pjoin(BASEDIR, \"gustratio\", f\"{stnNum:06d}.pkl\")\n",
    "    df = pd.read_pickle(fname)\n",
    "    df['date'] = pd.to_datetime(df['date'])\n",
    "    df['stnNum'] = stnNum\n",
    "    df.reset_index(inplace=True)\n",
    "    df.set_index(['stnNum', 'date'], inplace=True)\n",
    "    return df"
   ]
  },
  {
   "cell_type": "code",
   "execution_count": null,
   "id": "b6f7c059",
   "metadata": {},
   "outputs": [],
   "source": [
    "grdflist = []\n",
    "for stn in stndf.index:\n",
    "    df = loadGustRatioData(stn)\n",
    "    grdflist.append(df)\n",
    "\n",
    "allgrdf = pd.concat(grdflist)\n",
    "allgrdf['idx'] = allgrdf.index"
   ]
  },
  {
   "cell_type": "markdown",
   "id": "41149f5d",
   "metadata": {},
   "source": [
    "Here we join the manually classified set of events with the automatically classified events (based on the gust ratio). We reset the index of the dataframe holding the manually classified data to match the index of the automatically classified events and provide a suffix to separate the overlapping column names. A cross-tabulation then gives the comparison of events with different classifications. "
   ]
  },
  {
   "cell_type": "code",
   "execution_count": null,
   "id": "5bd3f87a",
   "metadata": {},
   "outputs": [],
   "source": [
    "compdf = pd.merge(stormdf.set_index(['stnNum', 'date']), allgrdf, suffixes=('_s', '_g'))"
   ]
  },
  {
   "cell_type": "code",
   "execution_count": null,
   "id": "0d949177",
   "metadata": {},
   "outputs": [],
   "source": [
    "pd.crosstab(compdf['stormType'], compdf['category'])"
   ]
  },
  {
   "cell_type": "code",
   "execution_count": null,
   "id": "75779a8d",
   "metadata": {},
   "outputs": [],
   "source": [
    "alldf.set_index('tdiff', append=True)[['windgust', 'tempanom', 'stnpanom', 'dpanom']]"
   ]
  }
 ],
 "metadata": {
  "kernelspec": {
   "display_name": "Python 3.9.7 ('base')",
   "language": "python",
   "name": "python3"
  },
  "language_info": {
   "codemirror_mode": {
    "name": "ipython",
    "version": 3
   },
   "file_extension": ".py",
   "mimetype": "text/x-python",
   "name": "python",
   "nbconvert_exporter": "python",
   "pygments_lexer": "ipython3",
   "version": "3.9.7"
  },
  "vscode": {
   "interpreter": {
    "hash": "2ea474a113ff55dff1cbc38a3731e9fb22cfbc4b847a3881f148469c107cd800"
   }
  }
 },
 "nbformat": 4,
 "nbformat_minor": 5
}
