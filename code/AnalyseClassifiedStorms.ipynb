{
 "cells": [
  {
   "cell_type": "code",
   "execution_count": 1,
   "id": "127adedc",
   "metadata": {},
   "outputs": [],
   "source": [
    "%matplotlib inline\n",
    "\n",
    "from os.path import join as pjoin\n",
    "import pandas as pd\n",
    "import numpy as np\n",
    "import seaborn as sns\n",
    "import matplotlib.pyplot as plt\n",
    "from matplotlib import patheffects\n",
    "pe = patheffects.withStroke(foreground=\"white\", linewidth=5)\n"
   ]
  },
  {
   "cell_type": "code",
   "execution_count": 5,
   "id": "c8e03bd0",
   "metadata": {},
   "outputs": [],
   "source": [
    "BASEDIR = r\"X:\\georisk\\HaRIA_B_Wind\\data\\derived\\obs\\1-minute\\events\"\n",
    "DATADIR = r\"X:\\georisk\\HaRIA_B_Wind\\data\\derived\\obs\\1-minute\\events-60\"\n",
    "eventFile = pjoin(BASEDIR, \"CA_20230518_Hobart.csv\")\n",
    "#eventFile = pjoin(BASEDIR, \"NA_all.csv\")\n",
    "#stormdf = pd.read_csv(eventFile, usecols=[2, 3, 4], parse_dates=['date'],\n",
    "#                dtype={'stnNum': float,\n",
    "#                       'stormType': 'category'},\n",
    "#                converters={'stnNum': lambda s: int(float(s.strip() or 0))})\n",
    "\n",
    "stormdf = pd.read_csv(eventFile, usecols=[1, 2, 3],\n",
    "                      parse_dates=['date'],\n",
    "                      dtype={'stnNum': int,\n",
    "                             'stormType': 'category'},)"
   ]
  },
  {
   "cell_type": "code",
   "execution_count": 4,
   "id": "c63ed960",
   "metadata": {},
   "outputs": [
    {
     "data": {
      "text/plain": [
       "<Axes: >"
      ]
     },
     "execution_count": 4,
     "metadata": {},
     "output_type": "execute_result"
    },
    {
     "data": {
      "image/png": "[encoded data removed]",
      "text/plain": [
       "<Figure size 640x480 with 1 Axes>"
      ]
     },
     "metadata": {},
     "output_type": "display_data"
    }
   ],
   "source": [
    "stormdf.stormType.value_counts().plot(kind='bar')"
   ]
  },
  {
   "cell_type": "code",
   "execution_count": 6,
   "id": "4a545d80",
   "metadata": {},
   "outputs": [],
   "source": [
    "def loadData(stnNum):\n",
    "    fname = pjoin(DATADIR, \"events\", f\"{stnNum:06d}.pkl\")\n",
    "    df = pd.read_pickle(fname)\n",
    "    df['date'] = pd.to_datetime(df['date'])\n",
    "    df['stnNum'] = stnNum\n",
    "    df.reset_index(inplace=True)\n",
    "    df.set_index(['stnNum', 'date'], inplace=True)\n",
    "    return df"
   ]
  },
  {
   "cell_type": "code",
   "execution_count": 7,
   "id": "c7f63084",
   "metadata": {},
   "outputs": [],
   "source": [
    "stndf = pd.read_csv(pjoin(BASEDIR, 'hqstations.csv'), index_col=\"stnNum\")"
   ]
  },
  {
   "cell_type": "markdown",
   "id": "da543ed0",
   "metadata": {},
   "source": [
    "Load all the observed data, for all HQ stations and concatenate into a single dataframe. We then create a new attribute (called `idx`) that is a tuple of the MultiIndex of the dataframe (based on station and date)"
   ]
  },
  {
   "cell_type": "code",
   "execution_count": 8,
   "id": "8af7a440",
   "metadata": {},
   "outputs": [
    {
     "ename": "FileNotFoundError",
     "evalue": "[Errno 2] No such file or directory: 'X:\\\\georisk\\\\HaRIA_B_Wind\\\\data\\\\derived\\\\obs\\\\1-minute\\\\events-60\\\\events\\\\085072.pkl'",
     "output_type": "error",
     "traceback": [
      "\u001b[1;31m---------------------------------------------------------------------------\u001b[0m",
      "\u001b[1;31mFileNotFoundError\u001b[0m                         Traceback (most recent call last)",
      "Cell \u001b[1;32mIn[8], line 3\u001b[0m\n\u001b[0;32m      1\u001b[0m dflist \u001b[39m=\u001b[39m []\n\u001b[0;32m      2\u001b[0m \u001b[39mfor\u001b[39;00m stn \u001b[39min\u001b[39;00m stndf\u001b[39m.\u001b[39mindex:\n\u001b[1;32m----> 3\u001b[0m     df \u001b[39m=\u001b[39m loadData(stn)\n\u001b[0;32m      4\u001b[0m     dflist\u001b[39m.\u001b[39mappend(df)\n\u001b[0;32m      6\u001b[0m alldf \u001b[39m=\u001b[39m pd\u001b[39m.\u001b[39mconcat(dflist)\n",
      "Cell \u001b[1;32mIn[6], line 3\u001b[0m, in \u001b[0;36mloadData\u001b[1;34m(stnNum)\u001b[0m\n\u001b[0;32m      1\u001b[0m \u001b[39mdef\u001b[39;00m \u001b[39mloadData\u001b[39m(stnNum):\n\u001b[0;32m      2\u001b[0m     fname \u001b[39m=\u001b[39m pjoin(DATADIR, \u001b[39m\"\u001b[39m\u001b[39mevents\u001b[39m\u001b[39m\"\u001b[39m, \u001b[39mf\u001b[39m\u001b[39m\"\u001b[39m\u001b[39m{\u001b[39;00mstnNum\u001b[39m:\u001b[39;00m\u001b[39m06d\u001b[39m\u001b[39m}\u001b[39;00m\u001b[39m.pkl\u001b[39m\u001b[39m\"\u001b[39m)\n\u001b[1;32m----> 3\u001b[0m     df \u001b[39m=\u001b[39m pd\u001b[39m.\u001b[39;49mread_pickle(fname)\n\u001b[0;32m      4\u001b[0m     df[\u001b[39m'\u001b[39m\u001b[39mdate\u001b[39m\u001b[39m'\u001b[39m] \u001b[39m=\u001b[39m pd\u001b[39m.\u001b[39mto_datetime(df[\u001b[39m'\u001b[39m\u001b[39mdate\u001b[39m\u001b[39m'\u001b[39m])\n\u001b[0;32m      5\u001b[0m     df[\u001b[39m'\u001b[39m\u001b[39mstnNum\u001b[39m\u001b[39m'\u001b[39m] \u001b[39m=\u001b[39m stnNum\n",
      "File \u001b[1;32mc:\\W10Dev\\Anaconda3\\envs\\sktime\\lib\\site-packages\\pandas\\io\\pickle.py:190\u001b[0m, in \u001b[0;36mread_pickle\u001b[1;34m(filepath_or_buffer, compression, storage_options)\u001b[0m\n\u001b[0;32m    124\u001b[0m \u001b[39m\u001b[39m\u001b[39m\"\"\"\u001b[39;00m\n\u001b[0;32m    125\u001b[0m \u001b[39mLoad pickled pandas object (or any object) from file.\u001b[39;00m\n\u001b[0;32m    126\u001b[0m \n\u001b[1;32m   (...)\u001b[0m\n\u001b[0;32m    187\u001b[0m \u001b[39m4    4    9\u001b[39;00m\n\u001b[0;32m    188\u001b[0m \u001b[39m\"\"\"\u001b[39;00m\n\u001b[0;32m    189\u001b[0m excs_to_catch \u001b[39m=\u001b[39m (\u001b[39mAttributeError\u001b[39;00m, \u001b[39mImportError\u001b[39;00m, \u001b[39mModuleNotFoundError\u001b[39;00m, \u001b[39mTypeError\u001b[39;00m)\n\u001b[1;32m--> 190\u001b[0m \u001b[39mwith\u001b[39;00m get_handle(\n\u001b[0;32m    191\u001b[0m     filepath_or_buffer,\n\u001b[0;32m    192\u001b[0m     \u001b[39m\"\u001b[39;49m\u001b[39mrb\u001b[39;49m\u001b[39m\"\u001b[39;49m,\n\u001b[0;32m    193\u001b[0m     compression\u001b[39m=\u001b[39;49mcompression,\n\u001b[0;32m    194\u001b[0m     is_text\u001b[39m=\u001b[39;49m\u001b[39mFalse\u001b[39;49;00m,\n\u001b[0;32m    195\u001b[0m     storage_options\u001b[39m=\u001b[39;49mstorage_options,\n\u001b[0;32m    196\u001b[0m ) \u001b[39mas\u001b[39;00m handles:\n\u001b[0;32m    197\u001b[0m \n\u001b[0;32m    198\u001b[0m     \u001b[39m# 1) try standard library Pickle\u001b[39;00m\n\u001b[0;32m    199\u001b[0m     \u001b[39m# 2) try pickle_compat (older pandas version) to handle subclass changes\u001b[39;00m\n\u001b[0;32m    200\u001b[0m     \u001b[39m# 3) try pickle_compat with latin-1 encoding upon a UnicodeDecodeError\u001b[39;00m\n\u001b[0;32m    202\u001b[0m     \u001b[39mtry\u001b[39;00m:\n\u001b[0;32m    203\u001b[0m         \u001b[39m# TypeError for Cython complaints about object.__new__ vs Tick.__new__\u001b[39;00m\n\u001b[0;32m    204\u001b[0m         \u001b[39mtry\u001b[39;00m:\n",
      "File \u001b[1;32mc:\\W10Dev\\Anaconda3\\envs\\sktime\\lib\\site-packages\\pandas\\io\\common.py:865\u001b[0m, in \u001b[0;36mget_handle\u001b[1;34m(path_or_buf, mode, encoding, compression, memory_map, is_text, errors, storage_options)\u001b[0m\n\u001b[0;32m    856\u001b[0m         handle \u001b[39m=\u001b[39m \u001b[39mopen\u001b[39m(\n\u001b[0;32m    857\u001b[0m             handle,\n\u001b[0;32m    858\u001b[0m             ioargs\u001b[39m.\u001b[39mmode,\n\u001b[1;32m   (...)\u001b[0m\n\u001b[0;32m    861\u001b[0m             newline\u001b[39m=\u001b[39m\u001b[39m\"\u001b[39m\u001b[39m\"\u001b[39m,\n\u001b[0;32m    862\u001b[0m         )\n\u001b[0;32m    863\u001b[0m     \u001b[39melse\u001b[39;00m:\n\u001b[0;32m    864\u001b[0m         \u001b[39m# Binary mode\u001b[39;00m\n\u001b[1;32m--> 865\u001b[0m         handle \u001b[39m=\u001b[39m \u001b[39mopen\u001b[39;49m(handle, ioargs\u001b[39m.\u001b[39;49mmode)\n\u001b[0;32m    866\u001b[0m     handles\u001b[39m.\u001b[39mappend(handle)\n\u001b[0;32m    868\u001b[0m \u001b[39m# Convert BytesIO or file objects passed with an encoding\u001b[39;00m\n",
      "\u001b[1;31mFileNotFoundError\u001b[0m: [Errno 2] No such file or directory: 'X:\\\\georisk\\\\HaRIA_B_Wind\\\\data\\\\derived\\\\obs\\\\1-minute\\\\events-60\\\\events\\\\085072.pkl'"
     ]
    }
   ],
   "source": [
    "dflist = []\n",
    "for stn in stndf.index:\n",
    "    df = loadData(stn)\n",
    "    dflist.append(df)\n",
    "\n",
    "alldf = pd.concat(dflist)\n",
    "alldf['idx'] = alldf.index"
   ]
  },
  {
   "cell_type": "markdown",
   "id": "e302cc79",
   "metadata": {},
   "source": [
    "We create a similar attribute in the list of storm types..."
   ]
  },
  {
   "cell_type": "code",
   "execution_count": null,
   "id": "64121df6",
   "metadata": {},
   "outputs": [],
   "source": [
    "stormdf['idx'] = stormdf[['stnNum', 'date']].apply(tuple, axis=1)\n",
    "\n",
    "synidx = stormdf[stormdf['stormType']==\"Synoptic storm\"]['idx']\n",
    "syfidx = stormdf[stormdf['stormType']==\"Synoptic front\"]['idx']\n",
    "sbidx = stormdf[stormdf['stormType']==\"Storm-burst\"]['idx']\n",
    "\n",
    "tsidx = stormdf[stormdf['stormType']==\"Thunderstorm\"]['idx']\n",
    "fuidx = stormdf[stormdf['stormType']==\"Front up\"]['idx']\n",
    "fdidx = stormdf[stormdf['stormType']==\"Front down\"]['idx']\n",
    "\n",
    "ucidx = stormdf[stormdf['stormType']==\"Unclassified\"]['idx']\n",
    "spidx = stormdf[stormdf['stormType']==\"Spike\"]['idx']\n"
   ]
  },
  {
   "cell_type": "markdown",
   "id": "688515b1",
   "metadata": {},
   "source": [
    "Then we can select the time series of each event that is classified as the selected storm type. We then group by the time difference (i.e. the time before/after the peak gust) and take the mean of all the values. "
   ]
  },
  {
   "cell_type": "code",
   "execution_count": null,
   "id": "a0d7f6a9",
   "metadata": {},
   "outputs": [],
   "source": [
    "synevents = alldf[alldf.idx.isin(synidx.values)]\n",
    "syfevents = alldf[alldf.idx.isin(syfidx.values)]\n",
    "sbevents = alldf[alldf.idx.isin(sbidx.values)]\n",
    "\n",
    "\n",
    "tsevents = alldf[alldf.idx.isin(tsidx.values)]\n",
    "fuevents = alldf[alldf.idx.isin(fuidx.values)]\n",
    "fdevents = alldf[alldf.idx.isin(fdidx.values)]\n",
    "\n",
    "ucevents = alldf[alldf.idx.isin(ucidx.values)]\n",
    "spevents = alldf[alldf.idx.isin(spidx.values)]\n",
    "\n",
    "meansyn = synevents.reset_index().groupby('tdiff').mean().reset_index()\n",
    "meansyf = syfevents.reset_index().groupby('tdiff').mean().reset_index()\n",
    "meansb = sbevents.reset_index().groupby('tdiff').mean().reset_index()\n",
    "\n",
    "meants = tsevents.reset_index().groupby('tdiff').mean().reset_index()\n",
    "meanfu = fuevents.reset_index().groupby('tdiff').mean().reset_index()\n",
    "meanfd = fdevents.reset_index().groupby('tdiff').mean().reset_index()\n",
    "\n",
    "meanuc = ucevents.reset_index().groupby('tdiff').mean().reset_index()\n",
    "meansp = spevents.reset_index().groupby('tdiff').mean().reset_index()"
   ]
  },
  {
   "cell_type": "code",
   "execution_count": null,
   "id": "63016b55",
   "metadata": {},
   "outputs": [],
   "source": [
    "def plotEvent(df):\n",
    "    fig, ax = plt.subplots(figsize=(12,8))\n",
    "    #ax = fig.add_axes([0, 0, 1, 1])\n",
    "    #ax2 = ax.twinx()\n",
    "    axt = ax.twinx()\n",
    "    axp = ax.twinx()\n",
    "    ax.set_zorder(1)\n",
    "    ax.patch.set_visible(False)\n",
    "    axt.plot(df.tdiff, df.tempanom, label=r\"Temperature/dewpoint anomaly [$^o$C]\",\n",
    "             color='r', marker='^', markerfacecolor=\"None\", lw=2, path_effects=[pe], zorder=1,\n",
    "             markevery=5)\n",
    "    axt.plot(df.tdiff, df.dpanom, color='orangered', marker='.', markerfacecolor=\"None\",\n",
    "             lw=1, path_effects=[pe], zorder=1, markevery=5)\n",
    "    \n",
    "    ax.plot(df.tdiff, df.windgust, label=\"Wind gust ['km/h']\", \n",
    "            lw=3, path_effects=[pe], markerfacecolor=\"None\",zorder=100)\n",
    "    axp.plot(df.tdiff, df.stnpanom, color='purple', lw=2, path_effects=[pe],\n",
    "             ls='--', label='Station pressure anomaly [hPa]')\n",
    "\n",
    "\n",
    "    #axt.spines['right'].set_position((\"axes\", 1.075))\n",
    "    axt.spines[['right']].set_color('r')\n",
    "    axt.yaxis.label.set_color('r')\n",
    "    axt.tick_params(axis='y', colors='r')\n",
    "    axt.set_ylabel(r\"Temperature/dewpoint anomaly [$^o$C]\")\n",
    "\n",
    "    ax.set_ylabel(\"Gust wind speed [km/h]\")\n",
    "\n",
    "    axp.spines[['right']].set_position(('axes', 1.075))\n",
    "    axp.spines[['right']].set_color('purple')\n",
    "    axp.yaxis.label.set_color('purple')\n",
    "    axp.tick_params(axis='y', colors='purple')\n",
    "    axp.set_ylabel(\"Pressure anomaly [hPa]\")\n",
    "\n",
    "    gmin, gmax = ax.get_ylim()\n",
    "    pmin, pmax = axp.get_ylim()\n",
    "    tmin, tmax = axt.get_ylim()\n",
    "    ax.set_ylim((0, max(gmax, 100)))\n",
    "    axp.set_ylim((min(-2.0, pmin), max(pmax, 2.0)))\n",
    "    axt.set_ylim((min(-2.0, tmin), max(tmax, 2.0)))\n",
    "    #ax2.set_ylim((0, 360))\n",
    "    #ax2.set_yticks(np.arange(0, 361, 90))\n",
    "    #axr.set_ylim((0, 100))\n",
    "    #ax.set_title(meants.index[0])\n",
    "    ax.grid(True)\n",
    "    #ax2.grid(False)\n",
    "    axt.grid(False)\n",
    "    axp.grid(False)\n",
    "    #axr.grid(False)"
   ]
  },
  {
   "cell_type": "code",
   "execution_count": null,
   "id": "f988f2c2",
   "metadata": {},
   "outputs": [],
   "source": [
    "plotEvent(meants)"
   ]
  },
  {
   "cell_type": "code",
   "execution_count": null,
   "id": "64d299c3",
   "metadata": {},
   "outputs": [],
   "source": [
    "plotEvent(meanfu)"
   ]
  },
  {
   "cell_type": "code",
   "execution_count": null,
   "id": "f5ea9c37",
   "metadata": {},
   "outputs": [],
   "source": [
    "plotEvent(meanfd)"
   ]
  },
  {
   "cell_type": "code",
   "execution_count": null,
   "id": "5ea6cd18",
   "metadata": {},
   "outputs": [],
   "source": [
    "plotEvent(meansyn)"
   ]
  },
  {
   "cell_type": "code",
   "execution_count": null,
   "id": "a760eebb",
   "metadata": {},
   "outputs": [],
   "source": [
    "plotEvent(meansyf)"
   ]
  },
  {
   "cell_type": "code",
   "execution_count": null,
   "id": "db2a488c",
   "metadata": {},
   "outputs": [],
   "source": [
    "plotEvent(meansb)"
   ]
  },
  {
   "cell_type": "code",
   "execution_count": null,
   "id": "5eb1de73",
   "metadata": {},
   "outputs": [],
   "source": [
    "plotEvent(meansp)"
   ]
  },
  {
   "cell_type": "code",
   "execution_count": null,
   "id": "f7c670f4",
   "metadata": {},
   "outputs": [],
   "source": [
    "plotEvent(meanuc)"
   ]
  },
  {
   "cell_type": "code",
   "execution_count": null,
   "id": "2a70c9fc",
   "metadata": {},
   "outputs": [],
   "source": [
    "def loadGustRatioData(stnNum):\n",
    "    fname = pjoin(BASEDIR, \"gustratio\", f\"{stnNum:06d}.pkl\")\n",
    "    df = pd.read_pickle(fname)\n",
    "    df['date'] = pd.to_datetime(df['date'])\n",
    "    df['stnNum'] = stnNum\n",
    "    df.reset_index(inplace=True)\n",
    "    df.set_index(['stnNum', 'date'], inplace=True)\n",
    "    return df"
   ]
  },
  {
   "cell_type": "code",
   "execution_count": null,
   "id": "b6f7c059",
   "metadata": {},
   "outputs": [],
   "source": [
    "grdflist = []\n",
    "for stn in stndf.index:\n",
    "    df = loadGustRatioData(stn)\n",
    "    grdflist.append(df)\n",
    "\n",
    "allgrdf = pd.concat(grdflist)\n",
    "allgrdf['idx'] = allgrdf.index"
   ]
  },
  {
   "cell_type": "markdown",
   "id": "41149f5d",
   "metadata": {},
   "source": [
    "Here we join the manually classified set of events with the automatically classified events (based on the gust ratio). We reset the index of the dataframe holding the manually classified data to match the index of the automatically classified events and provide a suffix to separate the overlapping column names. A cross-tabulation then gives the comparison of events with different classifications. "
   ]
  },
  {
   "cell_type": "code",
   "execution_count": null,
   "id": "5bd3f87a",
   "metadata": {},
   "outputs": [],
   "source": [
    "compdf = pd.merge(stormdf.set_index(['stnNum', 'date']), allgrdf, suffixes=('_s', '_g'))"
   ]
  },
  {
   "cell_type": "code",
   "execution_count": null,
   "id": "0d949177",
   "metadata": {},
   "outputs": [],
   "source": [
    "pd.crosstab(compdf['stormType'], compdf['category'])"
   ]
  },
  {
   "cell_type": "code",
   "execution_count": null,
   "id": "75779a8d",
   "metadata": {},
   "outputs": [],
   "source": [
    "alldf.set_index('tdiff', append=True)[['windgust', 'tempanom', 'stnpanom', 'dpanom']]"
   ]
  }
 ],
 "metadata": {
  "kernelspec": {
   "display_name": "Python 3.9.16 ('sktime')",
   "language": "python",
   "name": "python3"
  },
  "language_info": {
   "codemirror_mode": {
    "name": "ipython",
    "version": 3
   },
   "file_extension": ".py",
   "mimetype": "text/x-python",
   "name": "python",
   "nbconvert_exporter": "python",
   "pygments_lexer": "ipython3",
   "version": "3.9.16"
  },
  "vscode": {
   "interpreter": {
    "hash": "6eacf74b18b37d56e760b681462e94465875e1f6e8e41eaf2cd6ab24d5297ceb"
   }
  }
 },
 "nbformat": 4,
 "nbformat_minor": 5
}
